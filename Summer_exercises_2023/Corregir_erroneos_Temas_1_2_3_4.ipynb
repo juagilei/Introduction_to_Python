{
 "cells": [
  {
   "cell_type": "markdown",
   "metadata": {},
   "source": [
    "# Ejercicios erroneos temas 1, 2, 3, 4"
   ]
  },
  {
   "cell_type": "markdown",
   "metadata": {},
   "source": [
    "Lo que teneis que hacer aqui es encontrar el fallo o error en los ejemplos de código, corregirlo y comprobar que este bien tras ello"
   ]
  },
  {
   "cell_type": "markdown",
   "metadata": {},
   "source": [
    "Ejercicio 1:\n",
    "Enunciado: Escribe un programa que solicite al usuario su nombre y lo imprima en la pantalla.\n",
    "Código incorrecto:"
   ]
  },
  {
   "cell_type": "code",
   "execution_count": null,
   "metadata": {},
   "outputs": [],
   "source": [
    "nombre = input(\"Introduce tu nombre:\")\n",
    "print(\"Hola,\", name)\n"
   ]
  },
  {
   "cell_type": "markdown",
   "metadata": {},
   "source": [
    "Ejercicio 2:\n",
    "Enunciado: Escribe un programa que solicite al usuario dos números enteros y muestre la suma de ambos.\n",
    "Código incorrecto:"
   ]
  },
  {
   "cell_type": "code",
   "execution_count": null,
   "metadata": {},
   "outputs": [],
   "source": [
    "num1 = input(\"Introduce el primer número:\")\n",
    "num2 = input(\"Introduce el segundo número:\")\n",
    "suma = num1 + num2\n",
    "print(\"La suma es:\", suma)\n"
   ]
  },
  {
   "cell_type": "markdown",
   "metadata": {},
   "source": [
    "Ejercicio 3:\n",
    "Enunciado: Escribe un programa que solicite al usuario su edad y le muestre el doble de su edad.\n",
    "Código incorrecto:"
   ]
  },
  {
   "cell_type": "code",
   "execution_count": null,
   "metadata": {},
   "outputs": [],
   "source": [
    "edad = input(\"Introduce tu edad:\")\n",
    "doble_edad = 2 * edad\n",
    "print(\"El doble de tu edad es:\", doble_edad)\n"
   ]
  },
  {
   "cell_type": "markdown",
   "metadata": {},
   "source": [
    "Ejercicio 4:\n",
    "Enunciado: Escribe un programa que solicite al usuario una frase y muestre la longitud de la frase.\n",
    "Código incorrecto:"
   ]
  },
  {
   "cell_type": "code",
   "execution_count": null,
   "metadata": {},
   "outputs": [],
   "source": [
    "frase = input(\"Introduce una frase:\")\n",
    "longitud = sum(frase)\n",
    "print(\"La longitud de la frase es:\", longitud)\n"
   ]
  },
  {
   "cell_type": "markdown",
   "metadata": {},
   "source": [
    "Ejercicio 5:\n",
    "Enunciado: Escribe un programa que solicite al usuario un número y muestre su valor absoluto.\n",
    "Código incorrecto:"
   ]
  },
  {
   "cell_type": "code",
   "execution_count": null,
   "metadata": {},
   "outputs": [],
   "source": [
    "num = input(\"Introduce un número:\")\n",
    "absoluto = abs(num)\n",
    "print(\"El valor absoluto del número es:\", absoluto)\n"
   ]
  },
  {
   "cell_type": "markdown",
   "metadata": {},
   "source": [
    "Ejercicio 6:\n",
    "Enunciado: Escribe un programa que solicite al usuario una frase y muestre las primeras tres letras de la frase.\n",
    "Código incorrecto:"
   ]
  },
  {
   "cell_type": "code",
   "execution_count": null,
   "metadata": {},
   "outputs": [],
   "source": [
    "frase = input(\"Introduce una frase:\")\n",
    "primeras_tres_letras = frase[1:3]\n",
    "print(\"Las primeras tres letras de la frase son:\", primeras_tres_letras)\n"
   ]
  },
  {
   "cell_type": "markdown",
   "metadata": {},
   "source": [
    "Ejercicio 7:\n",
    "Enunciado: Escribe un programa que solicite al usuario una frase y muestre la frase en mayúsculas.\n",
    "Código incorrecto:"
   ]
  },
  {
   "cell_type": "code",
   "execution_count": null,
   "metadata": {},
   "outputs": [],
   "source": [
    "frase = input(\"Introduce una frase:\")\n",
    "mayusculas = frase.capitalize()\n",
    "print(\"La frase en mayúsculas es:\", mayusculas)\n"
   ]
  },
  {
   "cell_type": "markdown",
   "metadata": {},
   "source": [
    "Ejercicio 8:\n",
    "Enunciado: Escribe un programa que solicite al usuario una palabra y muestre cada caracter de la palabra en una línea nueva.\n",
    "Código incorrecto:"
   ]
  },
  {
   "cell_type": "code",
   "execution_count": null,
   "metadata": {},
   "outputs": [],
   "source": [
    "palabra = input(\"Introduce una palabra:\")\n",
    "caracteres = len(palabra)\n",
    "for caracter in caracteres:\n",
    "    print(caracter)"
   ]
  }
 ],
 "metadata": {
  "kernelspec": {
   "display_name": "Python 3",
   "language": "python",
   "name": "python3"
  },
  "language_info": {
   "codemirror_mode": {
    "name": "ipython",
    "version": 3
   },
   "file_extension": ".py",
   "mimetype": "text/x-python",
   "name": "python",
   "nbconvert_exporter": "python",
   "pygments_lexer": "ipython3",
   "version": "3.11.4"
  },
  "orig_nbformat": 4
 },
 "nbformat": 4,
 "nbformat_minor": 2
}
