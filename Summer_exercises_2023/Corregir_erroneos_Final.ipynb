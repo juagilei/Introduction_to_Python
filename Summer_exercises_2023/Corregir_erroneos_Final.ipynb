{
 "cells": [
  {
   "cell_type": "markdown",
   "metadata": {},
   "source": [
    "# Corregir erroneos final"
   ]
  },
  {
   "cell_type": "markdown",
   "metadata": {},
   "source": [
    "Lo que teneis que hacer aqui es encontrar el o los fallos o error o errores, en los ejemplos de código, corregirlo y comprobar que este bien tras ello"
   ]
  },
  {
   "cell_type": "markdown",
   "metadata": {},
   "source": [
    "Ejercicio 1: Suma de números en una lista\n",
    "\n",
    "Enunciado: Escribe una función llamada sumar_lista() que tome una lista de números como argumento y devuelva la suma de todos los elementos de la lista.\n",
    "\n",
    "Código Erróneo:"
   ]
  },
  {
   "cell_type": "code",
   "execution_count": null,
   "metadata": {},
   "outputs": [],
   "source": [
    "def sumar_lista(lista):\n",
    "    suma = 0\n",
    "    for num in lista:\n",
    "        suma = num\n",
    "    return suma\n",
    "\n",
    "# Ejemplo de uso:\n",
    "numeros = [1, 2, 3, 4, 5]\n",
    "print(\"La suma es:\", sumar_lista(numeros))\n"
   ]
  },
  {
   "cell_type": "markdown",
   "metadata": {},
   "source": [
    "Ejercicio 2: Conversión de tipo de datos\n",
    "\n",
    "Enunciado: Escribe una función llamada concatenar_cadenas() que tome dos cadenas de texto como argumento y devuelva una sola cadena que las concatene.\n",
    "\n",
    "Código Erróneo:"
   ]
  },
  {
   "cell_type": "code",
   "execution_count": null,
   "metadata": {},
   "outputs": [],
   "source": [
    "def concatenar_cadenas(cadena1, cadena2):\n",
    "    resultado = cadena1[0] + cadena2[0]\n",
    "    return resultado\n",
    "\n",
    "# Ejemplo de uso:\n",
    "texto1 = \"Hola\"\n",
    "texto2 = 5\n",
    "print(concatenar_cadenas(texto1, texto2))\n"
   ]
  },
  {
   "cell_type": "markdown",
   "metadata": {},
   "source": [
    "Ejercicio 3: Inversión de una lista\n",
    "\n",
    "Enunciado: Escribe una función llamada invertir_lista() que tome una lista como argumento y devuelva la misma lista invertida.\n",
    "\n",
    "Código Erróneo:"
   ]
  },
  {
   "cell_type": "code",
   "execution_count": null,
   "metadata": {},
   "outputs": [],
   "source": [
    "def invertir_lista(lista):\n",
    "    return lista[::-1]\n",
    "\n",
    "# Ejemplo de uso:\n",
    "numeros = [1, 2, 3, 4, 5]\n",
    "print(\"La lista invertida es:\", invertir_lista())\n"
   ]
  },
  {
   "cell_type": "markdown",
   "metadata": {},
   "source": [
    "Ejercicio 4: Recursión en una lista\n",
    "\n",
    "Enunciado: Escribe una función llamada sumar_elementos() que tome una lista de números como argumento y devuelva la suma de todos los elementos de la lista utilizando recursión.\n",
    "\n",
    "Código Erróneo:"
   ]
  },
  {
   "cell_type": "code",
   "execution_count": null,
   "metadata": {},
   "outputs": [],
   "source": [
    "def sumar_elementos(lista):\n",
    "    if len(lista) == 0:\n",
    "        return 0\n",
    "    else:\n",
    "        return lista[0] + sumar_elementos(lista)\n",
    "\n",
    "# Ejemplo de uso:\n",
    "numeros = [\"1\", \"2\", \"3\", \"4\", \"5\"]\n",
    "print(\"La suma es:\", sumar_elementos(numeros))\n"
   ]
  },
  {
   "cell_type": "markdown",
   "metadata": {},
   "source": []
  }
 ],
 "metadata": {
  "kernelspec": {
   "display_name": "Python 3",
   "language": "python",
   "name": "python3"
  },
  "language_info": {
   "codemirror_mode": {
    "name": "ipython",
    "version": 3
   },
   "file_extension": ".py",
   "mimetype": "text/x-python",
   "name": "python",
   "nbconvert_exporter": "python",
   "pygments_lexer": "ipython3",
   "version": "3.11.4"
  },
  "orig_nbformat": 4
 },
 "nbformat": 4,
 "nbformat_minor": 2
}
