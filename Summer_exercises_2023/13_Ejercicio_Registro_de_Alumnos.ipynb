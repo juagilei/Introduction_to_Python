{
 "cells": [
  {
   "cell_type": "markdown",
   "metadata": {},
   "source": [
    "# Registro de alumnos\n",
    "\n",
    "Enunciado: Escribe un programa que permita registrar información de alumnos, incluyendo su nombre, edad y calificaciones en tres asignaturas. Luego, calcula el promedio de cada alumno y muestra el promedio general de todos los alumnos registrados."
   ]
  },
  {
   "cell_type": "markdown",
   "metadata": {},
   "source": [
    "Como se ha comentado en clase, vamos a separar por bloques lo que nos solicita el enunciado y dar algunas pistas.\n",
    "\n",
    "Pero teneis que completar el codigo con lo que falte (donde se han puesto las xxxxxxxxxxx):"
   ]
  },
  {
   "cell_type": "code",
   "execution_count": null,
   "metadata": {},
   "outputs": [],
   "source": [
    "# Bloque 1: Definir función para calcular el promedio de una lista de notas\n",
    "# Pista: Debes calcular la suma de las notas y dividirla por la cantidad de notas en la lista.\n",
    "def calcular_promedio(notas):\n",
    "    return (int(notas[0])+int(notas[1])+int(notas[3]))/3\n",
    "\n",
    "\n",
    "# Bloque 2: Definir función para registrar los datos de un alumno\n",
    "# Pista: Debes pedir al usuario que ingrese el nombre, edad y calificaciones del alumno,\n",
    "# separadas por comas, y luego convertir las calificaciones a una lista de números.\n",
    "def registrar_alumno():\n",
    "    nombre = input('Introduce el nombre del alumno: ')\n",
    "    edad = input('Introduce la edad del alumno: ')\n",
    "    notas = input(\"Ingrese las calificaciones separadas por comas (asignatura1, asignatura2, asignatura3): \").split(\",\")\n",
    "    notas = list(notas)\n",
    "    return nombre, edad, notas\n",
    "\n",
    "\n",
    "# Bloque 3: Función principal para registrar varios alumnos y calcular sus promedios\n",
    "# Pista: Debes pedir al usuario la cantidad de alumnos que quiere registrar.\n",
    "# Luego, utiliza un bucle para pedir los datos de cada alumno y guardarlos en una lista de diccionarios.\n",
    "# Por último, calcula los promedios individuales y el promedio general de todos los alumnos.\n",
    "def main():\n",
    "    alumnos = []\n",
    "    cantidad_alumnos = int(input('Introduce el numero de alumnbos a registrar: '))\n",
    "\n",
    "    for i in range(cantidad_alumnos):\n",
    "        print(f\"\\n Registro Alumno {i+1}\")\n",
    "        nombre, edad, notas = registrar_alumno()\n",
    "        alumnos.append({'nombre': nombre, 'edad': edad, 'notas': notas})\n",
    "\n",
    "    print()\n",
    "    promedios = []\n",
    "    for alumno in alumnos:\n",
    "        promedio = calcular_promedio(alumno[\"notas\"])\n",
    "        promedios.append(promedio)\n",
    "        print(f\"El promedio de {alumno['nombre']} es: {promedio:.2f}\")\n",
    "\n",
    "    promedio_general = calcular_promedio(promedios)\n",
    "    print(f\"\\nEl promedio general de todos los alumnos es: {promedio_general:.2f}\")\n",
    "\n",
    "\n",
    "# Llamada a la función principal para iniciar el programa\n",
    "main()\n",
    "\n",
    "\n"
   ]
  }
 ],
 "metadata": {
  "kernelspec": {
   "display_name": "Python 3",
   "language": "python",
   "name": "python3"
  },
  "language_info": {
   "codemirror_mode": {
    "name": "ipython",
    "version": 3
   },
   "file_extension": ".py",
   "mimetype": "text/x-python",
   "name": "python",
   "nbconvert_exporter": "python",
   "pygments_lexer": "ipython3",
   "version": "3.11.4"
  },
  "orig_nbformat": 4
 },
 "nbformat": 4,
 "nbformat_minor": 2
}
