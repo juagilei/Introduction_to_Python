{
 "cells": [
  {
   "cell_type": "markdown",
   "metadata": {},
   "source": [
    "# 6 Colecciones"
   ]
  },
  {
   "cell_type": "markdown",
   "metadata": {},
   "source": [
    "Ejercicio 1: Acceso y modificación de elementos de una lista\n",
    "\n",
    "Enunciado: Dada una lista de números, modifica el segundo elemento para que sea el doble de su valor original."
   ]
  },
  {
   "cell_type": "code",
   "execution_count": null,
   "metadata": {},
   "outputs": [],
   "source": [
    "lista = [5, 10, 15, 20, 25]\n",
    "# Tu código aquí\n",
    "\n",
    "print(lista)  # Debería imprimir: [5, 20, 15, 20, 25]\n"
   ]
  },
  {
   "cell_type": "code",
   "execution_count": 1,
   "metadata": {},
   "outputs": [
    {
     "name": "stdout",
     "output_type": "stream",
     "text": [
      "[5, 20, 15, 20, 25]\n"
     ]
    }
   ],
   "source": [
    "\n",
    "\n"
   ]
  },
  {
   "cell_type": "markdown",
   "metadata": {},
   "source": [
    "Ejercicio 2: Acceso a elementos de una tupla\n",
    "\n",
    "Enunciado: Dada una tupla de valores, imprime el tercer elemento."
   ]
  },
  {
   "cell_type": "markdown",
   "metadata": {},
   "source": []
  },
  {
   "cell_type": "code",
   "execution_count": null,
   "metadata": {},
   "outputs": [],
   "source": [
    "tupla = (10, 20, 30, 40, 50)\n",
    "# Tu código aquí\n",
    "\n",
    "# Debería imprimir: 30\n"
   ]
  },
  {
   "cell_type": "code",
   "execution_count": 2,
   "metadata": {},
   "outputs": [
    {
     "name": "stdout",
     "output_type": "stream",
     "text": [
      "30\n"
     ]
    }
   ],
   "source": [
    "\n"
   ]
  },
  {
   "cell_type": "markdown",
   "metadata": {},
   "source": [
    "Ejercicio 3: Creación de un conjunto y eliminación de elementos duplicados\n",
    "\n",
    "Enunciado: Dada una lista de números, crea un conjunto que contenga solo los elementos únicos de la lista."
   ]
  },
  {
   "cell_type": "code",
   "execution_count": null,
   "metadata": {},
   "outputs": [],
   "source": [
    "lista = [1, 2, 2, 3, 3, 4, 5, 5]\n",
    "# Tu código aquí\n",
    "\n",
    "print(conjunto)  # Debería imprimir: {1, 2, 3, 4, 5}\n"
   ]
  },
  {
   "cell_type": "code",
   "execution_count": 3,
   "metadata": {},
   "outputs": [
    {
     "name": "stdout",
     "output_type": "stream",
     "text": [
      "{1, 2, 3, 4, 5}\n"
     ]
    }
   ],
   "source": []
  },
  {
   "cell_type": "markdown",
   "metadata": {},
   "source": [
    "Ejercicio 4: Acceso a elementos de un diccionario\n",
    "\n",
    "Enunciado: Dado el diccionario de colores, imprime el valor asociado a la clave 'azul'."
   ]
  },
  {
   "cell_type": "code",
   "execution_count": null,
   "metadata": {},
   "outputs": [],
   "source": [
    "colores = {'amarillo': 'yellow', 'azul': 'blue', 'rojo': 'red'}\n",
    "# Tu código aquí\n",
    "\n",
    "# Debería imprimir: blue\n"
   ]
  },
  {
   "cell_type": "code",
   "execution_count": 4,
   "metadata": {},
   "outputs": [
    {
     "name": "stdout",
     "output_type": "stream",
     "text": [
      "blue\n"
     ]
    }
   ],
   "source": [
    "\n"
   ]
  },
  {
   "cell_type": "markdown",
   "metadata": {},
   "source": [
    "Ejercicio 5: Modificación de un valor en un diccionario\n",
    "\n",
    "Enunciado: Dado el diccionario de edades, actualiza la edad de 'Maria' a 35 años."
   ]
  },
  {
   "cell_type": "markdown",
   "metadata": {},
   "source": []
  },
  {
   "cell_type": "code",
   "execution_count": null,
   "metadata": {},
   "outputs": [],
   "source": [
    "edades = {'Maria': 34, 'Hector': 28, 'Juan': 45}\n",
    "# Tu código aquí\n",
    "\n",
    "print(edades)  # Debería imprimir: {'Maria': 35, 'Hector': 28, 'Juan': 45}\n"
   ]
  },
  {
   "cell_type": "code",
   "execution_count": 5,
   "metadata": {},
   "outputs": [
    {
     "name": "stdout",
     "output_type": "stream",
     "text": [
      "{'Maria': 35, 'Hector': 28, 'Juan': 45}\n"
     ]
    }
   ],
   "source": [
    "\n"
   ]
  },
  {
   "cell_type": "markdown",
   "metadata": {},
   "source": [
    "Ejercicio 6: Iteración sobre una lista y suma de elementos\n",
    "\n",
    "Enunciado: Dada una lista de números, calcula la suma de todos los elementos e imprime el resultado."
   ]
  },
  {
   "cell_type": "code",
   "execution_count": null,
   "metadata": {},
   "outputs": [],
   "source": [
    "lista = [10, 20, 30, 40, 50]\n",
    "# Tu código aquí\n",
    "\n",
    "# Debería imprimir: 150\n"
   ]
  },
  {
   "cell_type": "code",
   "execution_count": 6,
   "metadata": {},
   "outputs": [
    {
     "name": "stdout",
     "output_type": "stream",
     "text": [
      "150\n"
     ]
    }
   ],
   "source": []
  },
  {
   "cell_type": "markdown",
   "metadata": {},
   "source": [
    "Ejercicio 7: Iteración sobre una tupla y conteo de elementos\n",
    "\n",
    "Enunciado: Dada una tupla de caracteres, cuenta cuántas veces aparece el carácter 'a' y devuelve el resultado."
   ]
  },
  {
   "cell_type": "code",
   "execution_count": null,
   "metadata": {},
   "outputs": [],
   "source": [
    "tupla = ('a', 'b', 'c', 'a', 'd', 'a')\n",
    "# Tu código aquí\n",
    "\n",
    "# Debería imprimir: 3\n"
   ]
  },
  {
   "cell_type": "code",
   "execution_count": 7,
   "metadata": {},
   "outputs": [
    {
     "name": "stdout",
     "output_type": "stream",
     "text": [
      "3\n"
     ]
    }
   ],
   "source": [
    "\n"
   ]
  },
  {
   "cell_type": "markdown",
   "metadata": {},
   "source": [
    "Ejercicio 8: Comprobación de pertenencia a un conjunto\n",
    "\n",
    "Enunciado: Dado un conjunto de números, comprueba si el número 5 está presente y devuelve True o False."
   ]
  },
  {
   "cell_type": "code",
   "execution_count": null,
   "metadata": {},
   "outputs": [],
   "source": [
    "conjunto = {1, 2, 3, 4, 6, 7, 8, 9}\n",
    "# Tu código aquí\n",
    "\n",
    "# Debería imprimir: False\n"
   ]
  },
  {
   "cell_type": "code",
   "execution_count": 8,
   "metadata": {},
   "outputs": [
    {
     "name": "stdout",
     "output_type": "stream",
     "text": [
      "False\n"
     ]
    }
   ],
   "source": [
    "\n"
   ]
  },
  {
   "cell_type": "markdown",
   "metadata": {},
   "source": [
    "Ejercicio 9: Uso del método .items() en un diccionario\n",
    "\n",
    "Enunciado: Dado el diccionario de nombres y edades, imprime cada nombre y su correspondiente edad en un formato legible."
   ]
  },
  {
   "cell_type": "code",
   "execution_count": null,
   "metadata": {},
   "outputs": [],
   "source": [
    "edades = {'Maria': 34, 'Hector': 28, 'Juan': 45}\n",
    "# Tu código aquí\n",
    "\n",
    "# Debería imprimir:\n",
    "# Maria tiene 34 años\n",
    "# Hector tiene 28 años\n",
    "# Juan tiene 45 años\n"
   ]
  },
  {
   "cell_type": "code",
   "execution_count": 9,
   "metadata": {},
   "outputs": [
    {
     "name": "stdout",
     "output_type": "stream",
     "text": [
      "Maria tiene 34 años\n",
      "Hector tiene 28 años\n",
      "Juan tiene 45 años\n"
     ]
    }
   ],
   "source": [
    "\n"
   ]
  },
  {
   "cell_type": "markdown",
   "metadata": {},
   "source": [
    "Ejercicio 10: Búsqueda de clave por valor en un diccionario\n",
    "\n",
    "Enunciado: Dado el diccionario de edades, encuentra la clave correspondiente al valor 28 y devuelve la clave o \"No encontrado\" si el valor no existe."
   ]
  },
  {
   "cell_type": "code",
   "execution_count": null,
   "metadata": {},
   "outputs": [],
   "source": [
    "edades = {'Maria': 34, 'Hector': 28, 'Juan': 45}\n",
    "# Tu código aquí\n",
    "\n",
    "# Debería imprimir: Hector\n"
   ]
  },
  {
   "cell_type": "code",
   "execution_count": 11,
   "metadata": {},
   "outputs": [
    {
     "name": "stdout",
     "output_type": "stream",
     "text": [
      "Hector\n"
     ]
    }
   ],
   "source": [
    "\n",
    "\n"
   ]
  },
  {
   "cell_type": "markdown",
   "metadata": {},
   "source": []
  }
 ],
 "metadata": {
  "kernelspec": {
   "display_name": "Python 3",
   "language": "python",
   "name": "python3"
  },
  "language_info": {
   "codemirror_mode": {
    "name": "ipython",
    "version": 3
   },
   "file_extension": ".py",
   "mimetype": "text/x-python",
   "name": "python",
   "nbconvert_exporter": "python",
   "pygments_lexer": "ipython3",
   "version": "3.11.4"
  },
  "orig_nbformat": 4
 },
 "nbformat": 4,
 "nbformat_minor": 2
}
