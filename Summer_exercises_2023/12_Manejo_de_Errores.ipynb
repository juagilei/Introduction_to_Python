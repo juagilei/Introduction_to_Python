{
 "cells": [
  {
   "cell_type": "markdown",
   "metadata": {},
   "source": [
    "# 12 Manejo de errores"
   ]
  },
  {
   "cell_type": "markdown",
   "metadata": {},
   "source": [
    "Ejercicio 1: Suma segura de dos números\n",
    "\n",
    "Escribe una función llamada suma_segura() que tome dos números como argumentos y devuelva su suma. Maneja las excepciones que se pueden presentar en caso de que el usuario ingrese valores no numéricos."
   ]
  },
  {
   "cell_type": "code",
   "execution_count": 2,
   "metadata": {},
   "outputs": [
    {
     "name": "stdout",
     "output_type": "stream",
     "text": [
      "Error: Debes ingresar valores numéricos.\n"
     ]
    }
   ],
   "source": [
    "# Escribe aqui tu codigo\n",
    "\n",
    "\n",
    "# Ejemplo de uso:\n",
    "num1 = input(\"Ingresa el primer número: \")\n",
    "num2 = input(\"Ingresa el segundo número: \")\n",
    "\n",
    "print(suma_segura(num1, num2))\n"
   ]
  },
  {
   "cell_type": "markdown",
   "metadata": {},
   "source": [
    "Ejercicio 2: Área del triángulo\n",
    "\n",
    "Escribe una función llamada area_triangulo() que tome la base y la altura de un triángulo como argumentos y devuelva su área. Maneja la excepción que se puede presentar si los valores ingresados no son numéricos."
   ]
  },
  {
   "cell_type": "code",
   "execution_count": 4,
   "metadata": {},
   "outputs": [
    {
     "name": "stdout",
     "output_type": "stream",
     "text": [
      "391.0\n"
     ]
    }
   ],
   "source": [
    "# Escribe aqui tu codigo\n",
    "\n",
    "# Ejemplo de uso:\n",
    "base = input(\"Ingresa la base del triángulo: \")\n",
    "altura = input(\"Ingresa la altura del triángulo: \")\n",
    "\n",
    "print(area_triangulo(base, altura))\n"
   ]
  },
  {
   "cell_type": "markdown",
   "metadata": {},
   "source": [
    "Ejercicio 3: Validación de número positivo\n",
    "\n",
    "Escribe una función llamada validar_numero_positivo() que tome un número como argumento y verifique si es un número positivo. Si no lo es, lanza una excepción personalizada. "
   ]
  },
  {
   "cell_type": "code",
   "execution_count": 14,
   "metadata": {},
   "outputs": [
    {
     "name": "stdout",
     "output_type": "stream",
     "text": [
      "El número debe ser positivo\n"
     ]
    }
   ],
   "source": [
    "# Escribe aqui tu codigo\n",
    "\n",
    "# Ejemplo de uso:\n",
    "try:\n",
    "    num = float(input(\"Ingresa un número positivo: \"))\n",
    "    validar_numero_positivo(num)\n",
    "    print(\"El número es positivo.\")\n",
    "except ValueError as e:\n",
    "    print(e)\n"
   ]
  },
  {
   "cell_type": "markdown",
   "metadata": {},
   "source": [
    "Ejercicio 4: Cálculo de descuento\n",
    "\n",
    "Escribe una función llamada calcular_descuento() que tome el precio original de un producto y un porcentaje de descuento como argumentos. Si el porcentaje de descuento es mayor al 50%, lanza una excepción personalizada."
   ]
  },
  {
   "cell_type": "code",
   "execution_count": 9,
   "metadata": {},
   "outputs": [
    {
     "name": "stdout",
     "output_type": "stream",
     "text": [
      "El descuento no puede ser mayor al 50%\n"
     ]
    }
   ],
   "source": [
    "# Escribe aqui tu codigo\n",
    "\n",
    "# Ejemplo de uso:\n",
    "try:\n",
    "    precio = float(input(\"Ingresa el precio original del producto: \"))\n",
    "    descuento = float(input(\"Ingresa el porcentaje de descuento: \"))\n",
    "    precio_final = calcular_descuento(precio, descuento)\n",
    "    print(\"El precio final con descuento es:\", precio_final)\n",
    "except ValueError as e:\n",
    "    print(e)\n"
   ]
  },
  {
   "cell_type": "markdown",
   "metadata": {},
   "source": []
  }
 ],
 "metadata": {
  "kernelspec": {
   "display_name": "Python 3",
   "language": "python",
   "name": "python3"
  },
  "language_info": {
   "codemirror_mode": {
    "name": "ipython",
    "version": 3
   },
   "file_extension": ".py",
   "mimetype": "text/x-python",
   "name": "python",
   "nbconvert_exporter": "python",
   "pygments_lexer": "ipython3",
   "version": "3.11.4"
  },
  "orig_nbformat": 4
 },
 "nbformat": 4,
 "nbformat_minor": 2
}
