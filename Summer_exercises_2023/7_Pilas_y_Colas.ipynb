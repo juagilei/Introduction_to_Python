{
 "cells": [
  {
   "cell_type": "markdown",
   "metadata": {},
   "source": [
    "# Pilas y Colas"
   ]
  },
  {
   "cell_type": "markdown",
   "metadata": {},
   "source": [
    "Ejercicio 1: Operaciones en una pila\n",
    "\n",
    "Enunciado: Crea una pila vacía y realiza las siguientes operaciones en orden:\n",
    "\n",
    "- Añade los elementos 3, 4, 5 y 6 a la pila.\n",
    "- Saca un elemento de la pila y almacénalo en una variable.\n",
    "- Imprime el elemento sacado y la pila actualizada."
   ]
  },
  {
   "cell_type": "code",
   "execution_count": null,
   "metadata": {},
   "outputs": [],
   "source": [
    "# Ejemplo de salida esperada:\n",
    "# Elemento sacado: 6\n",
    "# Pila actualizada: [3, 4, 5]\n"
   ]
  },
  {
   "cell_type": "code",
   "execution_count": 2,
   "metadata": {},
   "outputs": [
    {
     "name": "stdout",
     "output_type": "stream",
     "text": [
      "Elemento sacado: 6\n",
      "Pila actualizada: [3, 4, 5]\n"
     ]
    }
   ],
   "source": [
    "\n"
   ]
  },
  {
   "cell_type": "markdown",
   "metadata": {},
   "source": [
    "Ejercicio 2: Operaciones en una cola\n",
    "\n",
    "Enunciado: Crea una cola vacía utilizando la colección deque y realiza las siguientes operaciones en orden:\n",
    "\n",
    "- Añade los elementos 'Hector', 'Juan' y 'Miguel' a la cola.\n",
    "- Saca un elemento de la cola y almacénalo en una variable.\n",
    "- Imprime el elemento sacado y la cola actualizada."
   ]
  },
  {
   "cell_type": "code",
   "execution_count": null,
   "metadata": {},
   "outputs": [],
   "source": [
    "# Ejemplo de salida esperada:\n",
    "# Elemento sacado: 'Hector'\n",
    "# Cola actualizada: deque(['Juan', 'Miguel'])\n"
   ]
  },
  {
   "cell_type": "code",
   "execution_count": 3,
   "metadata": {},
   "outputs": [
    {
     "name": "stdout",
     "output_type": "stream",
     "text": [
      "Elemento sacado: Hector\n",
      "Cola actualizada: deque(['Juan', 'Miguel'])\n"
     ]
    }
   ],
   "source": []
  },
  {
   "cell_type": "markdown",
   "metadata": {},
   "source": [
    "Ejercicio 3: Conversión de lista a pila\n",
    "\n",
    "Enunciado: Dada una lista de números, conviértela en una pila utilizando el método append(). Luego, realiza las siguientes operaciones en orden:\n",
    "\n",
    "- Saca dos elementos de la pila y almacénalos en variables.\n",
    "- Imprime los elementos sacados y la pila actualizada."
   ]
  },
  {
   "cell_type": "code",
   "execution_count": null,
   "metadata": {},
   "outputs": [],
   "source": [
    "# Ejemplo de entrada:\n",
    "# lista = [10, 20, 30, 40, 50]\n",
    "# Ejemplo de salida esperada:\n",
    "# Elementos sacados: 50, 40\n",
    "# Pila actualizada: [10, 20, 30]\n"
   ]
  },
  {
   "cell_type": "code",
   "execution_count": 4,
   "metadata": {},
   "outputs": [
    {
     "name": "stdout",
     "output_type": "stream",
     "text": [
      "Elementos sacados: 50 40\n",
      "Pila actualizada: [10, 20, 30]\n"
     ]
    }
   ],
   "source": [
    "\n"
   ]
  },
  {
   "cell_type": "markdown",
   "metadata": {},
   "source": [
    "Ejercicio 4: Conversión de lista a cola\n",
    "\n",
    "Enunciado: Dada una lista de nombres, conviértela en una cola utilizando la colección deque y el método append(). Luego, realiza las siguientes operaciones en orden:\n",
    "\n",
    "- Saca el primer elemento de la cola y almacénalo en una variable.\n",
    "- Imprime el elemento sacado y la cola actualizada."
   ]
  },
  {
   "cell_type": "code",
   "execution_count": null,
   "metadata": {},
   "outputs": [],
   "source": [
    "# Ejemplo de entrada:\n",
    "# lista = ['Maria', 'Juan', 'Pedro', 'Ana']\n",
    "# Ejemplo de salida esperada:\n",
    "# Elemento sacado: 'Maria'\n",
    "# Cola actualizada: deque(['Juan', 'Pedro', 'Ana'])\n"
   ]
  },
  {
   "cell_type": "code",
   "execution_count": 5,
   "metadata": {},
   "outputs": [
    {
     "name": "stdout",
     "output_type": "stream",
     "text": [
      "Elemento sacado: Maria\n",
      "Cola actualizada: deque(['Juan', 'Pedro', 'Ana'])\n"
     ]
    }
   ],
   "source": [
    "\n"
   ]
  },
  {
   "cell_type": "markdown",
   "metadata": {},
   "source": [
    "Ejercicio 5: Verificar si una palabra es un palíndromo utilizando una pila y una cola\n",
    "\n",
    "Enunciado: Dada una palabra, verifica si es un palíndromo utilizando una pila y una cola. Implementa las siguientes operaciones:\n",
    "\n",
    "- Convierte la palabra en una pila y en una cola.\n",
    "- Compara los elementos extraídos de la pila y la cola para determinar si la palabra es un palíndromo.\n",
    "- Imprime el resultado (es palíndromo o no)."
   ]
  },
  {
   "cell_type": "code",
   "execution_count": null,
   "metadata": {},
   "outputs": [],
   "source": [
    "# Ejemplo de entrada:\n",
    "# palabra = 'reconocer'\n",
    "# Ejemplo de salida esperada:\n",
    "# La palabra 'reconocer' es un palíndromo.\n"
   ]
  },
  {
   "cell_type": "code",
   "execution_count": 6,
   "metadata": {},
   "outputs": [
    {
     "name": "stdout",
     "output_type": "stream",
     "text": [
      "La palabra reconocer es un palíndromo.\n"
     ]
    }
   ],
   "source": [
    "\n"
   ]
  },
  {
   "cell_type": "markdown",
   "metadata": {},
   "source": []
  }
 ],
 "metadata": {
  "kernelspec": {
   "display_name": "Python 3",
   "language": "python",
   "name": "python3"
  },
  "language_info": {
   "codemirror_mode": {
    "name": "ipython",
    "version": 3
   },
   "file_extension": ".py",
   "mimetype": "text/x-python",
   "name": "python",
   "nbconvert_exporter": "python",
   "pygments_lexer": "ipython3",
   "version": "3.11.4"
  },
  "orig_nbformat": 4
 },
 "nbformat": 4,
 "nbformat_minor": 2
}
