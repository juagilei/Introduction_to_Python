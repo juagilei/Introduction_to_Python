{
 "cells": [
  {
   "cell_type": "markdown",
   "id": "7953d637",
   "metadata": {},
   "source": [
    "# Colecciones de datos\n",
    "\n",
    "Tuplas\n",
    "Conjuntos \n",
    "Diccionarios"
   ]
  },
  {
   "cell_type": "markdown",
   "id": "6ec747ca",
   "metadata": {},
   "source": [
    "## Tuplas\n",
    "\n",
    "Son inmutables, por lo que se usan como constantes"
   ]
  },
  {
   "cell_type": "code",
   "execution_count": 1,
   "id": "1af8a6b8",
   "metadata": {},
   "outputs": [],
   "source": [
    "tupla = (100,'Blockmaker',[1,2,3],-50) # La tupla se define entre parentesis ()"
   ]
  },
  {
   "cell_type": "code",
   "execution_count": 2,
   "id": "90354b5f",
   "metadata": {},
   "outputs": [
    {
     "data": {
      "text/plain": [
       "(100, 'Blockmaker', [1, 2, 3], -50)"
      ]
     },
     "execution_count": 2,
     "metadata": {},
     "output_type": "execute_result"
    }
   ],
   "source": [
    "tupla"
   ]
  },
  {
   "cell_type": "markdown",
   "id": "b72f7005",
   "metadata": {},
   "source": [
    "### Indexación y slicing\n",
    "\n",
    "Se solicita como en las listas"
   ]
  },
  {
   "cell_type": "code",
   "execution_count": 4,
   "id": "06eb656b",
   "metadata": {},
   "outputs": [
    {
     "data": {
      "text/plain": [
       "100"
      ]
     },
     "execution_count": 4,
     "metadata": {},
     "output_type": "execute_result"
    }
   ],
   "source": [
    "tupla[0]"
   ]
  },
  {
   "cell_type": "code",
   "execution_count": 5,
   "id": "344e5448",
   "metadata": {},
   "outputs": [
    {
     "data": {
      "text/plain": [
       "-50"
      ]
     },
     "execution_count": 5,
     "metadata": {},
     "output_type": "execute_result"
    }
   ],
   "source": [
    "tupla[3]"
   ]
  },
  {
   "cell_type": "code",
   "execution_count": 6,
   "id": "c07bd29f",
   "metadata": {},
   "outputs": [
    {
     "data": {
      "text/plain": [
       "([1, 2, 3], -50)"
      ]
     },
     "execution_count": 6,
     "metadata": {},
     "output_type": "execute_result"
    }
   ],
   "source": [
    "tupla[2:]"
   ]
  },
  {
   "cell_type": "code",
   "execution_count": 7,
   "id": "6d3af075",
   "metadata": {},
   "outputs": [
    {
     "data": {
      "text/plain": [
       "(100, 'Blockmaker', [1, 2, 3])"
      ]
     },
     "execution_count": 7,
     "metadata": {},
     "output_type": "execute_result"
    }
   ],
   "source": [
    "tupla[:-1]"
   ]
  },
  {
   "cell_type": "code",
   "execution_count": 8,
   "id": "17039ea3",
   "metadata": {},
   "outputs": [
    {
     "data": {
      "text/plain": [
       "(100, 'Blockmaker', [1, 2, 3], -50)"
      ]
     },
     "execution_count": 8,
     "metadata": {},
     "output_type": "execute_result"
    }
   ],
   "source": [
    "tupla[:]"
   ]
  },
  {
   "cell_type": "code",
   "execution_count": 10,
   "id": "e06fb1b4",
   "metadata": {},
   "outputs": [
    {
     "data": {
      "text/plain": [
       "3"
      ]
     },
     "execution_count": 10,
     "metadata": {},
     "output_type": "execute_result"
    }
   ],
   "source": [
    "tupla[2][-1]#Cuando quiero un datos de las lista que esta dentro de la tupla\n",
    "            #primero indico la posición de la lista y luego d la posición en la lista. "
   ]
  },
  {
   "cell_type": "markdown",
   "id": "13ea0b39",
   "metadata": {},
   "source": [
    "## Inmutabilidad\n",
    "\n",
    "No puedes modificar un elemento en la tupla, podemos añadir pero no podemos ni modifcar eliminar en las listas. \n",
    "Para modificar la tupla solo se puede machacar por otra diferente pro cambiar algo dentro no se puede."
   ]
  },
  {
   "cell_type": "code",
   "execution_count": 11,
   "id": "642299e6",
   "metadata": {},
   "outputs": [
    {
     "ename": "TypeError",
     "evalue": "'tuple' object does not support item assignment",
     "output_type": "error",
     "traceback": [
      "\u001b[0;31m---------------------------------------------------------------------------\u001b[0m",
      "\u001b[0;31mTypeError\u001b[0m                                 Traceback (most recent call last)",
      "Cell \u001b[0;32mIn[11], line 1\u001b[0m\n\u001b[0;32m----> 1\u001b[0m tupla[\u001b[38;5;241m0\u001b[39m] \u001b[38;5;241m=\u001b[39m \u001b[38;5;241m50\u001b[39m\n",
      "\u001b[0;31mTypeError\u001b[0m: 'tuple' object does not support item assignment"
     ]
    }
   ],
   "source": [
    "tupla[0] = 50"
   ]
  },
  {
   "cell_type": "markdown",
   "id": "c1bf2d57",
   "metadata": {},
   "source": [
    "## Función len()\n",
    "\n",
    "Nos da el numero de posiciones del vectos, ya sean listas, tuplas etc...\n",
    "\n",
    "Tambien podemos ver la longitud de la lista que esta dentro de la tupla"
   ]
  },
  {
   "cell_type": "code",
   "execution_count": 12,
   "id": "539fb6d2",
   "metadata": {},
   "outputs": [
    {
     "data": {
      "text/plain": [
       "4"
      ]
     },
     "execution_count": 12,
     "metadata": {},
     "output_type": "execute_result"
    }
   ],
   "source": [
    "len(tupla)"
   ]
  },
  {
   "cell_type": "code",
   "execution_count": 14,
   "id": "0cfa269f",
   "metadata": {},
   "outputs": [
    {
     "data": {
      "text/plain": [
       "3"
      ]
     },
     "execution_count": 14,
     "metadata": {},
     "output_type": "execute_result"
    }
   ],
   "source": [
    "len(tupla[2])"
   ]
  },
  {
   "cell_type": "markdown",
   "id": "877af429",
   "metadata": {},
   "source": [
    "## Metodos integrados\n",
    "\n",
    "### index() \n",
    "\n",
    "Nos hace una busqueda de los datos de la tupla como en el for y nos indica la posición en la tupla del dato que buscamos."
   ]
  },
  {
   "cell_type": "code",
   "execution_count": 15,
   "id": "4f1e349c",
   "metadata": {},
   "outputs": [
    {
     "data": {
      "text/plain": [
       "0"
      ]
     },
     "execution_count": 15,
     "metadata": {},
     "output_type": "execute_result"
    }
   ],
   "source": [
    "tupla.index(100)"
   ]
  },
  {
   "cell_type": "code",
   "execution_count": 17,
   "id": "6cf89fb9",
   "metadata": {},
   "outputs": [
    {
     "data": {
      "text/plain": [
       "3"
      ]
     },
     "execution_count": 17,
     "metadata": {},
     "output_type": "execute_result"
    }
   ],
   "source": [
    "tupla.index(-50)"
   ]
  },
  {
   "cell_type": "code",
   "execution_count": 18,
   "id": "0b58d0da",
   "metadata": {},
   "outputs": [
    {
     "data": {
      "text/plain": [
       "(100, 'Blockmaker', [1, 2, 3], -50)"
      ]
     },
     "execution_count": 18,
     "metadata": {},
     "output_type": "execute_result"
    }
   ],
   "source": [
    "tupla"
   ]
  },
  {
   "cell_type": "markdown",
   "id": "382a8057",
   "metadata": {},
   "source": [
    "### count()\n",
    "\n",
    "cuenta las coincidencias a traves de la tupla"
   ]
  },
  {
   "cell_type": "code",
   "execution_count": 19,
   "id": "81d4b557",
   "metadata": {},
   "outputs": [
    {
     "data": {
      "text/plain": [
       "1"
      ]
     },
     "execution_count": 19,
     "metadata": {},
     "output_type": "execute_result"
    }
   ],
   "source": [
    "tupla.count(-50)"
   ]
  },
  {
   "cell_type": "code",
   "execution_count": 1,
   "id": "883be7e2",
   "metadata": {},
   "outputs": [],
   "source": [
    "tupla = (25, 25 ,34,6,8,90,25,67)"
   ]
  },
  {
   "cell_type": "code",
   "execution_count": 2,
   "id": "748b3103",
   "metadata": {},
   "outputs": [
    {
     "data": {
      "text/plain": [
       "3"
      ]
     },
     "execution_count": 2,
     "metadata": {},
     "output_type": "execute_result"
    }
   ],
   "source": [
    "tupla.count(25)"
   ]
  },
  {
   "cell_type": "code",
   "execution_count": 3,
   "id": "6251f731",
   "metadata": {},
   "outputs": [
    {
     "data": {
      "text/plain": [
       "0"
      ]
     },
     "execution_count": 3,
     "metadata": {},
     "output_type": "execute_result"
    }
   ],
   "source": [
    "tupla.index(25) # con index se para en la primera posición y no sigue buscando mas posiciones"
   ]
  },
  {
   "cell_type": "markdown",
   "id": "5613df4e",
   "metadata": {},
   "source": [
    "## Conjuntos\n",
    "\n",
    "No admite datos reptidos en la lista si los hay los borra."
   ]
  },
  {
   "cell_type": "markdown",
   "id": "f2188f99",
   "metadata": {},
   "source": [
    "### Conjuntos de numeros con orden definido\n",
    "\n",
    "Tiene la peculariedad de ordenar los numeros en las posiciones, trabaja de la misma forma con enteros y decimales."
   ]
  },
  {
   "cell_type": "code",
   "execution_count": 6,
   "id": "67c13f2a",
   "metadata": {},
   "outputs": [],
   "source": [
    "# Para crear un cojunto facio se usa la funcion set() y no se usan {}\n",
    "\n",
    "conjunto = set()"
   ]
  },
  {
   "cell_type": "code",
   "execution_count": 7,
   "id": "a053056d",
   "metadata": {},
   "outputs": [
    {
     "data": {
      "text/plain": [
       "set()"
      ]
     },
     "execution_count": 7,
     "metadata": {},
     "output_type": "execute_result"
    }
   ],
   "source": [
    "conjunto"
   ]
  },
  {
   "cell_type": "code",
   "execution_count": 3,
   "id": "f34242a9",
   "metadata": {},
   "outputs": [],
   "source": [
    "# Para rellenar el conjunto se usan llaves {} \n",
    "# no confundir con() que se usan en las tuplas o [] que se usan en las listas\n",
    "conjunto = {1,2,3}"
   ]
  },
  {
   "cell_type": "code",
   "execution_count": 9,
   "id": "145a2ed6",
   "metadata": {},
   "outputs": [
    {
     "data": {
      "text/plain": [
       "{1, 2, 3}"
      ]
     },
     "execution_count": 9,
     "metadata": {},
     "output_type": "execute_result"
    }
   ],
   "source": [
    "conjunto"
   ]
  },
  {
   "cell_type": "markdown",
   "id": "a5427ab0",
   "metadata": {},
   "source": [
    "### Método add\n",
    "\n",
    "Añade un valor a la última posición, o sea una posción mas detras de la ultima que había.\n",
    "Cuendo trabaja solo con números, tiene la peculariedad de ordenarlos por lo que si pongo un numero lo pone en su orrden.\n",
    "\n"
   ]
  },
  {
   "cell_type": "code",
   "execution_count": 10,
   "id": "016f743d",
   "metadata": {},
   "outputs": [],
   "source": [
    "conjunto.add (4)"
   ]
  },
  {
   "cell_type": "code",
   "execution_count": 12,
   "id": "bf9c3012",
   "metadata": {},
   "outputs": [
    {
     "data": {
      "text/plain": [
       "{1, 2, 3, 4}"
      ]
     },
     "execution_count": 12,
     "metadata": {},
     "output_type": "execute_result"
    }
   ],
   "source": [
    "conjunto"
   ]
  },
  {
   "cell_type": "code",
   "execution_count": 13,
   "id": "b77601cd",
   "metadata": {},
   "outputs": [],
   "source": [
    "conjunto.add(0) # Al usar solo numeros el 0 irá delante del 1 y no detras del 4"
   ]
  },
  {
   "cell_type": "code",
   "execution_count": 14,
   "id": "465bb4a9",
   "metadata": {},
   "outputs": [
    {
     "data": {
      "text/plain": [
       "{0, 1, 2, 3, 4}"
      ]
     },
     "execution_count": 14,
     "metadata": {},
     "output_type": "execute_result"
    }
   ],
   "source": [
    "conjunto"
   ]
  },
  {
   "cell_type": "code",
   "execution_count": 15,
   "id": "8eb81720",
   "metadata": {},
   "outputs": [],
   "source": [
    "conjunto.add(10)"
   ]
  },
  {
   "cell_type": "code",
   "execution_count": 16,
   "id": "53a4872d",
   "metadata": {},
   "outputs": [
    {
     "data": {
      "text/plain": [
       "{0, 1, 2, 3, 4, 10}"
      ]
     },
     "execution_count": 16,
     "metadata": {},
     "output_type": "execute_result"
    }
   ],
   "source": [
    "conjunto"
   ]
  },
  {
   "cell_type": "code",
   "execution_count": 17,
   "id": "ba77c873",
   "metadata": {},
   "outputs": [],
   "source": [
    "conjunto.add(7)"
   ]
  },
  {
   "cell_type": "code",
   "execution_count": 18,
   "id": "7f893e07",
   "metadata": {},
   "outputs": [
    {
     "data": {
      "text/plain": [
       "{0, 1, 2, 3, 4, 7, 10}"
      ]
     },
     "execution_count": 18,
     "metadata": {},
     "output_type": "execute_result"
    }
   ],
   "source": [
    "conjunto"
   ]
  },
  {
   "cell_type": "markdown",
   "id": "ff5c1fe4",
   "metadata": {},
   "source": [
    "### Colecciones sin orden definidos\n",
    "\n",
    "Podemos introducir caracteres estos tambien se organizan detras de los numeros"
   ]
  },
  {
   "cell_type": "code",
   "execution_count": 4,
   "id": "a74af4a4",
   "metadata": {},
   "outputs": [],
   "source": [
    "conjunto.add('H')"
   ]
  },
  {
   "cell_type": "code",
   "execution_count": 5,
   "id": "b98d7c56",
   "metadata": {},
   "outputs": [
    {
     "data": {
      "text/plain": [
       "{1, 2, 3, 'H'}"
      ]
     },
     "execution_count": 5,
     "metadata": {},
     "output_type": "execute_result"
    }
   ],
   "source": [
    "conjunto"
   ]
  },
  {
   "cell_type": "code",
   "execution_count": 7,
   "id": "b2d7d0c7",
   "metadata": {},
   "outputs": [],
   "source": [
    "# respeta el orden alfabetico por lo que la A estará delante de la H pero detras de los numeros\n",
    "conjunto.add('A')"
   ]
  },
  {
   "cell_type": "code",
   "execution_count": 9,
   "id": "cc6e80cc",
   "metadata": {},
   "outputs": [
    {
     "data": {
      "text/plain": [
       "{1, 2, 3, 'A', 'H'}"
      ]
     },
     "execution_count": 9,
     "metadata": {},
     "output_type": "execute_result"
    }
   ],
   "source": [
    "conjunto "
   ]
  },
  {
   "cell_type": "code",
   "execution_count": 10,
   "id": "0e1bd328",
   "metadata": {},
   "outputs": [],
   "source": [
    "conjunto.add('Z')"
   ]
  },
  {
   "cell_type": "code",
   "execution_count": 11,
   "id": "33dafea3",
   "metadata": {},
   "outputs": [
    {
     "data": {
      "text/plain": [
       "{1, 2, 3, 'A', 'H', 'Z'}"
      ]
     },
     "execution_count": 11,
     "metadata": {},
     "output_type": "execute_result"
    }
   ],
   "source": [
    "conjunto"
   ]
  },
  {
   "cell_type": "code",
   "execution_count": null,
   "id": "6b89ef17",
   "metadata": {},
   "outputs": [],
   "source": []
  },
  {
   "cell_type": "markdown",
   "id": "14c4a928",
   "metadata": {},
   "source": [
    "### Pertenencia a grupos con in\n",
    "\n",
    "Nos indica si es verdadero o falso que un dato esta en un grupo a diferencia del count que indica las veces que esta repetido, como en el conjunto no se repiten los datos, pues te da un true o un false."
   ]
  },
  {
   "cell_type": "code",
   "execution_count": 2,
   "id": "a25a8942",
   "metadata": {},
   "outputs": [],
   "source": [
    "grupo = {'Vitalik', 'Satoshi', 'Finney'}"
   ]
  },
  {
   "cell_type": "code",
   "execution_count": 13,
   "id": "0d9ba778",
   "metadata": {},
   "outputs": [
    {
     "data": {
      "text/plain": [
       "True"
      ]
     },
     "execution_count": 13,
     "metadata": {},
     "output_type": "execute_result"
    }
   ],
   "source": [
    "'Vitalik' in grupo"
   ]
  },
  {
   "cell_type": "code",
   "execution_count": 5,
   "id": "9a3d816d",
   "metadata": {},
   "outputs": [
    {
     "data": {
      "text/plain": [
       "False"
      ]
     },
     "execution_count": 5,
     "metadata": {},
     "output_type": "execute_result"
    }
   ],
   "source": [
    "'Pedo' in grupo"
   ]
  },
  {
   "cell_type": "code",
   "execution_count": 6,
   "id": "e6ac780b",
   "metadata": {},
   "outputs": [
    {
     "data": {
      "text/plain": [
       "True"
      ]
     },
     "execution_count": 6,
     "metadata": {},
     "output_type": "execute_result"
    }
   ],
   "source": [
    "'Pedo' not in grupo"
   ]
  },
  {
   "cell_type": "code",
   "execution_count": 4,
   "id": "82991544",
   "metadata": {},
   "outputs": [
    {
     "data": {
      "text/plain": [
       "{'Finney', 'Satoshi', 'Vitalik'}"
      ]
     },
     "execution_count": 4,
     "metadata": {},
     "output_type": "execute_result"
    }
   ],
   "source": [
    "grupo # los ordena alfebeticamente"
   ]
  },
  {
   "cell_type": "markdown",
   "id": "53d8eed9",
   "metadata": {},
   "source": [
    "### Autoeliminacion de elementos duplicados"
   ]
  },
  {
   "cell_type": "code",
   "execution_count": 11,
   "id": "1bf17d06",
   "metadata": {},
   "outputs": [],
   "source": [
    "test = {'pedo','pedo','culo','pedo', 'cala', 'ceja', 'calorro'}"
   ]
  },
  {
   "cell_type": "code",
   "execution_count": 12,
   "id": "98c290a2",
   "metadata": {},
   "outputs": [
    {
     "data": {
      "text/plain": [
       "{'cala', 'calorro', 'ceja', 'culo', 'pedo'}"
      ]
     },
     "execution_count": 12,
     "metadata": {},
     "output_type": "execute_result"
    }
   ],
   "source": [
    "test"
   ]
  },
  {
   "cell_type": "markdown",
   "id": "bf4d7837",
   "metadata": {},
   "source": [
    "### Cast\n",
    "\n",
    "pasa de conjunto a lista y viceversa.\n",
    "Se puede usar por ejemplo para eliminar los datos repetidpos en una lista."
   ]
  },
  {
   "cell_type": "code",
   "execution_count": 14,
   "id": "de4aadc2",
   "metadata": {},
   "outputs": [
    {
     "data": {
      "text/plain": [
       "[1, 2, 3, 3, 2, 1]"
      ]
     },
     "execution_count": 14,
     "metadata": {},
     "output_type": "execute_result"
    }
   ],
   "source": [
    "l = [1,2,3,3,2,1] \n",
    "l"
   ]
  },
  {
   "cell_type": "code",
   "execution_count": 15,
   "id": "ac18678c",
   "metadata": {},
   "outputs": [
    {
     "data": {
      "text/plain": [
       "{1, 2, 3}"
      ]
     },
     "execution_count": 15,
     "metadata": {},
     "output_type": "execute_result"
    }
   ],
   "source": [
    "c = set(l) # con set() convierto a conjunto, a c le paso la lista l y la convierto en un conjunto\n",
    "c"
   ]
  },
  {
   "cell_type": "code",
   "execution_count": 16,
   "id": "5bbe5230",
   "metadata": {},
   "outputs": [
    {
     "data": {
      "text/plain": [
       "[1, 2, 3]"
      ]
     },
     "execution_count": 16,
     "metadata": {},
     "output_type": "execute_result"
    }
   ],
   "source": [
    "l = list(c)# con list() convierto a una lista, se pued ever que el resultado se ve entre corchetes.\n",
    "l"
   ]
  },
  {
   "cell_type": "code",
   "execution_count": 17,
   "id": "1c3e2d85",
   "metadata": {},
   "outputs": [
    {
     "data": {
      "text/plain": [
       "[1, 2, 3, 3, 2, 1]"
      ]
     },
     "execution_count": 17,
     "metadata": {},
     "output_type": "execute_result"
    }
   ],
   "source": [
    "l = [1,2,3,3,2,1] \n",
    "l"
   ]
  },
  {
   "cell_type": "code",
   "execution_count": 18,
   "id": "e1c00181",
   "metadata": {},
   "outputs": [
    {
     "data": {
      "text/plain": [
       "[1, 2, 3]"
      ]
     },
     "execution_count": 18,
     "metadata": {},
     "output_type": "execute_result"
    }
   ],
   "source": [
    "l = list(set(l)) # puedo hacer toda la operacion en una sola linea, es una forma \n",
    "                 # de eliminar las repeticiones en la lista.\n",
    "l"
   ]
  },
  {
   "cell_type": "markdown",
   "id": "4ef3898f",
   "metadata": {},
   "source": [
    "## Diccionarios\n",
    "\n",
    "Es una lista en la que cada posición tiene una extructura mediante una clave se asigna un valor.\n",
    "\n",
    "Donde la clave va primero y le sigue dos puntos (:), despues los valores"
   ]
  },
  {
   "cell_type": "code",
   "execution_count": 19,
   "id": "999b69e5",
   "metadata": {},
   "outputs": [
    {
     "data": {
      "text/plain": [
       "{}"
      ]
     },
     "execution_count": 19,
     "metadata": {},
     "output_type": "execute_result"
    }
   ],
   "source": [
    "vacio = {}\n",
    "vacio"
   ]
  },
  {
   "cell_type": "code",
   "execution_count": 20,
   "id": "56432451",
   "metadata": {},
   "outputs": [
    {
     "data": {
      "text/plain": [
       "dict"
      ]
     },
     "execution_count": 20,
     "metadata": {},
     "output_type": "execute_result"
    }
   ],
   "source": [
    "type(vacio)"
   ]
  },
  {
   "cell_type": "code",
   "execution_count": 1,
   "id": "c7cc1b2b",
   "metadata": {},
   "outputs": [
    {
     "data": {
      "text/plain": [
       "{'amarillo': 'yelow', 'azul': 'blue'}"
      ]
     },
     "execution_count": 1,
     "metadata": {},
     "output_type": "execute_result"
    }
   ],
   "source": [
    "# amarillo y azul son las claves, yelow y blue son los valores\n",
    "colores = {'amarillo': 'yelow', 'azul':'blue'}\n",
    "colores"
   ]
  },
  {
   "cell_type": "markdown",
   "id": "7fcc4165",
   "metadata": {},
   "source": [
    "#### podemos añadir datos"
   ]
  },
  {
   "cell_type": "code",
   "execution_count": 23,
   "id": "87dded1f",
   "metadata": {},
   "outputs": [
    {
     "data": {
      "text/plain": [
       "{'amarillo': 'yelow', 'azul': 'blue', 'verde': 'green'}"
      ]
     },
     "execution_count": 23,
     "metadata": {},
     "output_type": "execute_result"
    }
   ],
   "source": [
    "colores['verde'] = 'green'\n",
    "colores"
   ]
  },
  {
   "cell_type": "markdown",
   "id": "4b0f9200",
   "metadata": {},
   "source": [
    "#### que valor tiene la plabra clave ??"
   ]
  },
  {
   "cell_type": "code",
   "execution_count": 24,
   "id": "ec0f4639",
   "metadata": {},
   "outputs": [
    {
     "data": {
      "text/plain": [
       "'blue'"
      ]
     },
     "execution_count": 24,
     "metadata": {},
     "output_type": "execute_result"
    }
   ],
   "source": [
    "colores['azul']"
   ]
  },
  {
   "cell_type": "code",
   "execution_count": 3,
   "id": "7e7d8507",
   "metadata": {},
   "outputs": [
    {
     "data": {
      "text/plain": [
       "'yelow'"
      ]
     },
     "execution_count": 3,
     "metadata": {},
     "output_type": "execute_result"
    }
   ],
   "source": [
    "colores['amarillo']"
   ]
  },
  {
   "cell_type": "markdown",
   "id": "5638d4a1",
   "metadata": {},
   "source": [
    "# Las claves tambien pueden ser numeros"
   ]
  },
  {
   "cell_type": "code",
   "execution_count": 4,
   "id": "e0d295c9",
   "metadata": {},
   "outputs": [],
   "source": [
    "numeros = {10:'diez',20:'veinte'}"
   ]
  },
  {
   "cell_type": "code",
   "execution_count": 5,
   "id": "0f8d1019",
   "metadata": {},
   "outputs": [
    {
     "data": {
      "text/plain": [
       "'diez'"
      ]
     },
     "execution_count": 5,
     "metadata": {},
     "output_type": "execute_result"
    }
   ],
   "source": [
    "numeros[10]"
   ]
  },
  {
   "cell_type": "markdown",
   "id": "821b633d",
   "metadata": {},
   "source": [
    "### modificacion en función de la clave\n",
    "No se puede ver la clave dando el rsultado"
   ]
  },
  {
   "cell_type": "code",
   "execution_count": 6,
   "id": "537198d6",
   "metadata": {},
   "outputs": [],
   "source": [
    "numeros[10] = 'treinta'"
   ]
  },
  {
   "cell_type": "code",
   "execution_count": 8,
   "id": "b91284b8",
   "metadata": {},
   "outputs": [
    {
     "data": {
      "text/plain": [
       "'treinta'"
      ]
     },
     "execution_count": 8,
     "metadata": {},
     "output_type": "execute_result"
    }
   ],
   "source": [
    "numeros [10]"
   ]
  },
  {
   "cell_type": "code",
   "execution_count": 2,
   "id": "77a78dc0",
   "metadata": {},
   "outputs": [
    {
     "data": {
      "text/plain": [
       "{'amarillo': 'yelow', 'azul': 'blue'}"
      ]
     },
     "execution_count": 2,
     "metadata": {},
     "output_type": "execute_result"
    }
   ],
   "source": [
    "colores"
   ]
  },
  {
   "cell_type": "code",
   "execution_count": 4,
   "id": "2ddb3b17",
   "metadata": {},
   "outputs": [
    {
     "data": {
      "text/plain": [
       "{'amarillo': 'marron', 'azul': 'blue'}"
      ]
     },
     "execution_count": 4,
     "metadata": {},
     "output_type": "execute_result"
    }
   ],
   "source": [
    "colores['amarillo']='marron'\n",
    "colores"
   ]
  },
  {
   "cell_type": "markdown",
   "id": "f939ec49",
   "metadata": {},
   "source": [
    "## Función del ()\n",
    "\n",
    "Elimin¡a la clave y por lo tanto camien el resultado"
   ]
  },
  {
   "cell_type": "code",
   "execution_count": 5,
   "id": "4ebd3e8b",
   "metadata": {},
   "outputs": [
    {
     "data": {
      "text/plain": [
       "{'azul': 'blue'}"
      ]
     },
     "execution_count": 5,
     "metadata": {},
     "output_type": "execute_result"
    }
   ],
   "source": [
    "del(colores['amarillo'])\n",
    "colores"
   ]
  },
  {
   "cell_type": "markdown",
   "id": "2fe83cc7",
   "metadata": {},
   "source": [
    "## Lectura secuencial con for in:"
   ]
  },
  {
   "cell_type": "code",
   "execution_count": 7,
   "id": "6c58b458",
   "metadata": {},
   "outputs": [
    {
     "name": "stdout",
     "output_type": "stream",
     "text": [
      "Maria\n",
      "Hector\n",
      "Juan\n"
     ]
    }
   ],
   "source": [
    "edades = {'Maria':'34','Hector':'28','Juan':'45'}\n",
    "\n",
    "for edad in edades:\n",
    "    print(edad)"
   ]
  },
  {
   "cell_type": "markdown",
   "id": "fe06a20e",
   "metadata": {},
   "source": [
    "en esta caso nos devuelve las claves \n"
   ]
  },
  {
   "cell_type": "markdown",
   "id": "6c9d2a3b",
   "metadata": {},
   "source": [
    "en el siguiente caso vemos las claves"
   ]
  },
  {
   "cell_type": "code",
   "execution_count": 8,
   "id": "550c4b44",
   "metadata": {},
   "outputs": [
    {
     "name": "stdout",
     "output_type": "stream",
     "text": [
      "34\n",
      "28\n",
      "45\n"
     ]
    }
   ],
   "source": [
    "for clave in edades:\n",
    "    \n",
    "    print(edades[clave])"
   ]
  },
  {
   "cell_type": "markdown",
   "id": "dcc0b0e8",
   "metadata": {},
   "source": [
    "## Metodo items\n",
    "existe otro método donde nos devuelve la clave como el valor"
   ]
  },
  {
   "cell_type": "code",
   "execution_count": 9,
   "id": "f8cf0d72",
   "metadata": {},
   "outputs": [
    {
     "name": "stdout",
     "output_type": "stream",
     "text": [
      "Maria 34\n",
      "Hector 28\n",
      "Juan 45\n"
     ]
    }
   ],
   "source": [
    "for c,v in edades.items():\n",
    "    \n",
    "    print(c,v)"
   ]
  },
  {
   "cell_type": "markdown",
   "id": "d6df47d2",
   "metadata": {},
   "source": [
    "NOTA: En Python, no hay forma directa de obtener una clave a partir de un valor en un diccionario. Sin embargo, puedes\n",
    "lograrlo mediante un bucle para buscar el valor correspondiente. Por ejemplo:"
   ]
  },
  {
   "cell_type": "code",
   "execution_count": 11,
   "id": "2f51adb9",
   "metadata": {},
   "outputs": [
    {
     "name": "stdout",
     "output_type": "stream",
     "text": [
      "Maria\n"
     ]
    }
   ],
   "source": [
    "def obtener_clave_por_valor(diccionario,valor):\n",
    "    for clave, val in diccionario.items():\n",
    "        if val ==valor:\n",
    "            return clave\n",
    "    return None\n",
    "\n",
    "edades = {'Maria':'34','Hector':'28','Juan':'45'}\n",
    "\n",
    "# Buscar la clave para el valor '34'\n",
    "\n",
    "clave = obtener_clave_por_valor(edades,'34')\n",
    "print(clave) #Imprimirá 'Maria'\n"
   ]
  },
  {
   "cell_type": "markdown",
   "id": "5a9a200a",
   "metadata": {},
   "source": [
    "# Resumen\n"
   ]
  },
  {
   "cell_type": "code",
   "execution_count": 1,
   "id": "2c0ec159",
   "metadata": {},
   "outputs": [],
   "source": [
    "lista = [100,\"BlockMaker\",[1,2,3],-50]\n",
    "tupla = (100,\"BlockMaker\",[1,2,3],-50)\n",
    "conjunto = {1,2,3,3}\n",
    "diccionario = {'amarillo':'yellow','azul':'blue'}"
   ]
  },
  {
   "cell_type": "code",
   "execution_count": null,
   "id": "f9c4a842",
   "metadata": {},
   "outputs": [],
   "source": []
  }
 ],
 "metadata": {
  "kernelspec": {
   "display_name": "Python 3 (ipykernel)",
   "language": "python",
   "name": "python3"
  },
  "language_info": {
   "codemirror_mode": {
    "name": "ipython",
    "version": 3
   },
   "file_extension": ".py",
   "mimetype": "text/x-python",
   "name": "python",
   "nbconvert_exporter": "python",
   "pygments_lexer": "ipython3",
   "version": "3.10.9"
  }
 },
 "nbformat": 4,
 "nbformat_minor": 5
}
