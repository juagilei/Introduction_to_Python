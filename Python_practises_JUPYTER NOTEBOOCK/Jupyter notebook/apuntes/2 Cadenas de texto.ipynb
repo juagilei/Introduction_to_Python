{
 "cells": [
  {
   "cell_type": "markdown",
   "id": "de5831f5",
   "metadata": {},
   "source": [
    "# Cadenas de caracteres / textos / \"strings\"\n",
    "\n",
    "Los literales pueden escribirse con comillas simples o dobles. Si queremos usar el mismo tipo de comillas en el interior de la cadena tenemos que _escaparla_ usando \\\n",
    "\n",
    "Vamos a ver algunos ejemplos y además introducimos `print` que equivale al `Escribir` de PSeInt."
   ]
  },
  {
   "cell_type": "code",
   "execution_count": 1,
   "id": "d4d8e104",
   "metadata": {},
   "outputs": [
    {
     "name": "stdout",
     "output_type": "stream",
     "text": [
      "con comillas dobles\n"
     ]
    }
   ],
   "source": [
    "print(\"con comillas dobles\")"
   ]
  },
  {
   "cell_type": "code",
   "execution_count": 2,
   "id": "33cac9d2",
   "metadata": {},
   "outputs": [
    {
     "name": "stdout",
     "output_type": "stream",
     "text": [
      "con comillas simples\n"
     ]
    }
   ],
   "source": [
    "print('con comillas simples')"
   ]
  },
  {
   "cell_type": "code",
   "execution_count": 3,
   "id": "2706281b",
   "metadata": {},
   "outputs": [
    {
     "name": "stdout",
     "output_type": "stream",
     "text": [
      "con comillas dobles e \"interiores\"\n"
     ]
    }
   ],
   "source": [
    "print(\"con comillas dobles e \\\"interiores\\\"\")"
   ]
  },
  {
   "cell_type": "markdown",
   "id": "61c85242",
   "metadata": {},
   "source": [
    "#### El caracter de escape también permite añadir caracteres especiales como las tabulaciones \\t o los saltos de línea \\n"
   ]
  },
  {
   "cell_type": "code",
   "execution_count": 4,
   "id": "6e0b6d25",
   "metadata": {
    "scrolled": true
   },
   "outputs": [
    {
     "name": "stdout",
     "output_type": "stream",
     "text": [
      "Un texto\tuna tabulación\n"
     ]
    }
   ],
   "source": [
    "print(\"Un texto\\tuna tabulación\")"
   ]
  },
  {
   "cell_type": "code",
   "execution_count": 5,
   "id": "eccdd83b",
   "metadata": {
    "scrolled": true
   },
   "outputs": [
    {
     "name": "stdout",
     "output_type": "stream",
     "text": [
      "Un texto\n",
      "una nueva línea\n"
     ]
    }
   ],
   "source": [
    "print(\"Un texto\\nuna nueva línea\")"
   ]
  },
  {
   "cell_type": "markdown",
   "id": "0685ca56",
   "metadata": {},
   "source": [
    "#### Para evitar los carácteres especiales, debemos indicar que una cadena es cruda (raw)"
   ]
  },
  {
   "cell_type": "code",
   "execution_count": 6,
   "id": "61a791d8",
   "metadata": {},
   "outputs": [
    {
     "name": "stdout",
     "output_type": "stream",
     "text": [
      "C:\n",
      "ombre\\directorio\n"
     ]
    }
   ],
   "source": [
    "print(\"C:\\nombre\\directorio\")"
   ]
  },
  {
   "cell_type": "code",
   "execution_count": 7,
   "id": "e9137975",
   "metadata": {},
   "outputs": [
    {
     "name": "stdout",
     "output_type": "stream",
     "text": [
      "C:\\nombre\\directorio\n"
     ]
    }
   ],
   "source": [
    "print(r\"C:\\nombre\\directorio\")  # r => raw (cruda)"
   ]
  },
  {
   "cell_type": "markdown",
   "id": "00f2c20e",
   "metadata": {},
   "source": [
    "#### Podemos utilizar \"\"\" *(triple comillas)* para cadenas multilínea"
   ]
  },
  {
   "cell_type": "code",
   "execution_count": 8,
   "id": "40eb1452",
   "metadata": {},
   "outputs": [
    {
     "name": "stdout",
     "output_type": "stream",
     "text": [
      "Una línea\n",
      "otra línea\n",
      "otra línea\tuna tabulación\n"
     ]
    }
   ],
   "source": [
    "print(\"\"\"Una línea\n",
    "otra línea\n",
    "otra línea\\tuna tabulación\"\"\")"
   ]
  },
  {
   "cell_type": "markdown",
   "id": "beb6174b",
   "metadata": {},
   "source": [
    "## Operaciones\n",
    "Una de las operaciones habituales con cadenas es la concatenación (o suma de cadenas)"
   ]
  },
  {
   "cell_type": "code",
   "execution_count": 9,
   "id": "bee52f98",
   "metadata": {},
   "outputs": [
    {
     "data": {
      "text/plain": [
       "'Blockchain developerBlockchain developer'"
      ]
     },
     "execution_count": 9,
     "metadata": {},
     "output_type": "execute_result"
    }
   ],
   "source": [
    "c = \"Blockchain developer\"\n",
    "c + c"
   ]
  },
  {
   "cell_type": "code",
   "execution_count": 10,
   "id": "37773bce",
   "metadata": {},
   "outputs": [
    {
     "name": "stdout",
     "output_type": "stream",
     "text": [
      "Blockchain developerBlockchain developer\n"
     ]
    }
   ],
   "source": [
    "print(c+c)"
   ]
  },
  {
   "cell_type": "code",
   "execution_count": 11,
   "id": "bce48fff",
   "metadata": {},
   "outputs": [
    {
     "name": "stdout",
     "output_type": "stream",
     "text": [
      "Una cadena compuesta de dos cadenas\n"
     ]
    }
   ],
   "source": [
    "s = \"Una cadena\" \" compuesta de dos cadenas\"\n",
    "print(s)"
   ]
  },
  {
   "cell_type": "code",
   "execution_count": 12,
   "id": "b0b94889",
   "metadata": {},
   "outputs": [
    {
     "name": "stdout",
     "output_type": "stream",
     "text": [
      "Una cadena otra cadena\n"
     ]
    }
   ],
   "source": [
    "c1 = \"Una cadena\"\n",
    "c2 = \"otra cadena\"\n",
    "print(\"Una cadena \" + c2)"
   ]
  },
  {
   "cell_type": "markdown",
   "id": "33fc762e",
   "metadata": {},
   "source": [
    "#### También es posible utilizar la multiplicación de cadenas"
   ]
  },
  {
   "cell_type": "code",
   "execution_count": 13,
   "id": "46e934c7",
   "metadata": {},
   "outputs": [
    {
     "name": "stdout",
     "output_type": "stream",
     "text": [
      "Un wei son 0.000000000000000001 ETH\n"
     ]
    }
   ],
   "source": [
    "ceros = \"0\" * 17\n",
    "print('Un wei son 0.' + ceros + '1 ETH')"
   ]
  },
  {
   "cell_type": "markdown",
   "id": "fb32b195",
   "metadata": {},
   "source": [
    "## Índices en las cadenas\n",
    "Los índices nos permiten acceder en un carácter específico de una cadena.\n",
    "\n",
    "Representan un número [índice], que empezando por el 0 indica el carácter de la primera posición, y así sucesivamente.\n",
    "\n",
    "Es el mismo concepto que para los vectores que ya vimos en PSeInt. De hecho las cadenas son vectores de caracteres."
   ]
  },
  {
   "cell_type": "code",
   "execution_count": 14,
   "id": "8901cd63",
   "metadata": {},
   "outputs": [],
   "source": [
    "palabra = \"BlockMaker\""
   ]
  },
  {
   "cell_type": "code",
   "execution_count": 15,
   "id": "6077f7a4",
   "metadata": {},
   "outputs": [
    {
     "data": {
      "text/plain": [
       "'B'"
      ]
     },
     "execution_count": 15,
     "metadata": {},
     "output_type": "execute_result"
    }
   ],
   "source": [
    "palabra[0] # carácter en la posición 0"
   ]
  },
  {
   "cell_type": "code",
   "execution_count": 16,
   "id": "aea289ca",
   "metadata": {},
   "outputs": [
    {
     "data": {
      "text/plain": [
       "'c'"
      ]
     },
     "execution_count": 16,
     "metadata": {},
     "output_type": "execute_result"
    }
   ],
   "source": [
    "palabra[3]"
   ]
  },
  {
   "cell_type": "markdown",
   "id": "903e3d64",
   "metadata": {},
   "source": [
    "#### El índice negativo -1, hace referencia al carácter de la última posición, el -2 al penúltimo y así sucesivamente"
   ]
  },
  {
   "cell_type": "code",
   "execution_count": 17,
   "id": "35b990b2",
   "metadata": {},
   "outputs": [
    {
     "data": {
      "text/plain": [
       "'r'"
      ]
     },
     "execution_count": 17,
     "metadata": {},
     "output_type": "execute_result"
    }
   ],
   "source": [
    "palabra[-1]"
   ]
  },
  {
   "cell_type": "code",
   "execution_count": 19,
   "id": "e8ea30c8",
   "metadata": {},
   "outputs": [
    {
     "data": {
      "text/plain": [
       "'e'"
      ]
     },
     "execution_count": 19,
     "metadata": {},
     "output_type": "execute_result"
    }
   ],
   "source": [
    "palabra[-2]"
   ]
  },
  {
   "cell_type": "code",
   "execution_count": 20,
   "id": "706cd937",
   "metadata": {},
   "outputs": [
    {
     "data": {
      "text/plain": [
       "'k'"
      ]
     },
     "execution_count": 20,
     "metadata": {},
     "output_type": "execute_result"
    }
   ],
   "source": [
    "palabra[-6]"
   ]
  },
  {
   "cell_type": "code",
   "execution_count": 21,
   "id": "63c716b8",
   "metadata": {},
   "outputs": [
    {
     "data": {
      "text/plain": [
       "'M'"
      ]
     },
     "execution_count": 21,
     "metadata": {},
     "output_type": "execute_result"
    }
   ],
   "source": [
    "palabra[5]"
   ]
  },
  {
   "cell_type": "markdown",
   "id": "eca896fb",
   "metadata": {},
   "source": [
    "## Slicing en las cadenas\n",
    "El slicing es una capacidad de las cadenas que devuelve un subconjunto o subcadena utilizando dos índices [inicio:fin]:\n",
    "- El primer índice indica donde empieza la subcadena (se incluye el carácter).\n",
    "- El segundo índice indica donde acaba la subcadena (se excluye el carácter)."
   ]
  },
  {
   "cell_type": "code",
   "execution_count": 22,
   "id": "943981d4",
   "metadata": {},
   "outputs": [],
   "source": [
    "palabra = \"Python\""
   ]
  },
  {
   "cell_type": "code",
   "execution_count": 23,
   "id": "08f53805",
   "metadata": {},
   "outputs": [
    {
     "data": {
      "text/plain": [
       "'Py'"
      ]
     },
     "execution_count": 23,
     "metadata": {},
     "output_type": "execute_result"
    }
   ],
   "source": [
    "palabra[0:2]"
   ]
  },
  {
   "cell_type": "code",
   "execution_count": 24,
   "id": "50f86ce6",
   "metadata": {},
   "outputs": [
    {
     "data": {
      "text/plain": [
       "'thon'"
      ]
     },
     "execution_count": 24,
     "metadata": {},
     "output_type": "execute_result"
    }
   ],
   "source": [
    "palabra[2:]"
   ]
  },
  {
   "cell_type": "code",
   "execution_count": 25,
   "id": "186912a6",
   "metadata": {},
   "outputs": [
    {
     "data": {
      "text/plain": [
       "'Py'"
      ]
     },
     "execution_count": 25,
     "metadata": {},
     "output_type": "execute_result"
    }
   ],
   "source": [
    "palabra[:2]"
   ]
  },
  {
   "cell_type": "markdown",
   "id": "f94fa564",
   "metadata": {},
   "source": [
    "#### Si en el slicing no se indica un índice se toma por defecto el principio y el final (incluídos)"
   ]
  },
  {
   "cell_type": "code",
   "execution_count": 26,
   "id": "6cc19746",
   "metadata": {},
   "outputs": [
    {
     "data": {
      "text/plain": [
       "'Python'"
      ]
     },
     "execution_count": 26,
     "metadata": {},
     "output_type": "execute_result"
    }
   ],
   "source": [
    "palabra[:]"
   ]
  },
  {
   "cell_type": "code",
   "execution_count": 27,
   "id": "43198090",
   "metadata": {},
   "outputs": [
    {
     "data": {
      "text/plain": [
       "'Python'"
      ]
     },
     "execution_count": 27,
     "metadata": {},
     "output_type": "execute_result"
    }
   ],
   "source": [
    "palabra[:2] + palabra[2:]"
   ]
  },
  {
   "cell_type": "code",
   "execution_count": 28,
   "id": "d30b282d",
   "metadata": {},
   "outputs": [
    {
     "data": {
      "text/plain": [
       "'on'"
      ]
     },
     "execution_count": 28,
     "metadata": {},
     "output_type": "execute_result"
    }
   ],
   "source": [
    "palabra[-2:]"
   ]
  },
  {
   "cell_type": "markdown",
   "id": "e13791ab",
   "metadata": {},
   "source": [
    "#### Si un índice se encuentra fuera del rango de la cadena, dará error"
   ]
  },
  {
   "cell_type": "code",
   "execution_count": 29,
   "id": "14d1d2e3",
   "metadata": {},
   "outputs": [
    {
     "ename": "IndexError",
     "evalue": "string index out of range",
     "output_type": "error",
     "traceback": [
      "\u001b[1;31m---------------------------------------------------------------------------\u001b[0m",
      "\u001b[1;31mIndexError\u001b[0m                                Traceback (most recent call last)",
      "Cell \u001b[1;32mIn[29], line 1\u001b[0m\n\u001b[1;32m----> 1\u001b[0m \u001b[43mpalabra\u001b[49m\u001b[43m[\u001b[49m\u001b[38;5;241;43m99\u001b[39;49m\u001b[43m]\u001b[49m\n",
      "\u001b[1;31mIndexError\u001b[0m: string index out of range"
     ]
    }
   ],
   "source": [
    "palabra[99]"
   ]
  },
  {
   "cell_type": "markdown",
   "id": "d6d337e7",
   "metadata": {},
   "source": [
    "#### Pero con slicing ésto no pasa y simplemente se ignora el espacio hueco"
   ]
  },
  {
   "cell_type": "code",
   "execution_count": 31,
   "id": "18487fb4",
   "metadata": {},
   "outputs": [
    {
     "data": {
      "text/plain": [
       "'Python'"
      ]
     },
     "execution_count": 31,
     "metadata": {},
     "output_type": "execute_result"
    }
   ],
   "source": [
    "palabra[:99]"
   ]
  },
  {
   "cell_type": "code",
   "execution_count": 32,
   "id": "0e450c56",
   "metadata": {},
   "outputs": [
    {
     "data": {
      "text/plain": [
       "''"
      ]
     },
     "execution_count": 32,
     "metadata": {},
     "output_type": "execute_result"
    }
   ],
   "source": [
    "palabra[99:]"
   ]
  },
  {
   "cell_type": "markdown",
   "id": "bd9408f3",
   "metadata": {},
   "source": [
    "## Inmutabilidad\n",
    "Una propiedad de las cadenas es que no se pueden modificar. Si intentamos reasignar un carácter, no nos dejará:"
   ]
  },
  {
   "cell_type": "code",
   "execution_count": 33,
   "id": "937fc2c6",
   "metadata": {},
   "outputs": [
    {
     "ename": "TypeError",
     "evalue": "'str' object does not support item assignment",
     "output_type": "error",
     "traceback": [
      "\u001b[1;31m---------------------------------------------------------------------------\u001b[0m",
      "\u001b[1;31mTypeError\u001b[0m                                 Traceback (most recent call last)",
      "Cell \u001b[1;32mIn[33], line 1\u001b[0m\n\u001b[1;32m----> 1\u001b[0m \u001b[43mpalabra\u001b[49m\u001b[43m[\u001b[49m\u001b[38;5;241;43m0\u001b[39;49m\u001b[43m]\u001b[49m \u001b[38;5;241m=\u001b[39m \u001b[38;5;124m\"\u001b[39m\u001b[38;5;124mN\u001b[39m\u001b[38;5;124m\"\u001b[39m\n",
      "\u001b[1;31mTypeError\u001b[0m: 'str' object does not support item assignment"
     ]
    }
   ],
   "source": [
    "palabra[0] = \"N\""
   ]
  },
  {
   "cell_type": "markdown",
   "id": "18324e6d",
   "metadata": {},
   "source": [
    "#### Sin embargo, utilizando slicing y concatenación podemos generar nuevas cadenas fácilmente:"
   ]
  },
  {
   "cell_type": "code",
   "execution_count": 34,
   "id": "7ab32f9b",
   "metadata": {},
   "outputs": [
    {
     "data": {
      "text/plain": [
       "'Nython'"
      ]
     },
     "execution_count": 34,
     "metadata": {},
     "output_type": "execute_result"
    }
   ],
   "source": [
    "palabra = \"N\" + palabra[1:]\n",
    "palabra"
   ]
  },
  {
   "cell_type": "markdown",
   "id": "35e3d986",
   "metadata": {},
   "source": [
    "### Funciones\n",
    "Un ejemplo de función útil que soportan las cadenas es len(), que nos permite saber su longitud (el número de caracteres que contienen)."
   ]
  },
  {
   "cell_type": "code",
   "execution_count": 35,
   "id": "fb896136",
   "metadata": {
    "scrolled": true
   },
   "outputs": [
    {
     "data": {
      "text/plain": [
       "6"
      ]
     },
     "execution_count": 35,
     "metadata": {},
     "output_type": "execute_result"
    }
   ],
   "source": [
    "len(palabra)"
   ]
  },
  {
   "cell_type": "code",
   "execution_count": null,
   "id": "57b0327b",
   "metadata": {},
   "outputs": [],
   "source": []
  }
 ],
 "metadata": {
  "kernelspec": {
   "display_name": "Python 3 (ipykernel)",
   "language": "python",
   "name": "python3"
  },
  "language_info": {
   "codemirror_mode": {
    "name": "ipython",
    "version": 3
   },
   "file_extension": ".py",
   "mimetype": "text/x-python",
   "name": "python",
   "nbconvert_exporter": "python",
   "pygments_lexer": "ipython3",
   "version": "3.10.4"
  }
 },
 "nbformat": 4,
 "nbformat_minor": 5
}
