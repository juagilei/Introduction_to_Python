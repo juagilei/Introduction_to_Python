{
 "cells": [
  {
   "cell_type": "markdown",
   "id": "656dc6e6",
   "metadata": {},
   "source": [
    "# Pilas y colas en Python\n",
    "\n",
    "Son estructuras de datos muy parecidas a las listas, muy utilizadas en algoritmos, cambia la forma de añadir, extraer y modificar los datos.\n",
    "\n",
    "En su versión teórica más simple las pilas y colas sólo tienen dos operaciones: añadir un elemento y retirar un elemento. La diferencia entre ambas estructuras es como se retiran los elementos tras añadirlos.\n",
    "\n",
    "Las pilas siguen la estructura LIFO (Last In, First Out) de manera que al recuperar un elemento obtenemos primero el último introducido. (lo ultimo que se hace es lo primero como se ve igual que en el historial de navegación al ver primero lo último visto)\n",
    "\n",
    "Las colas siguen la estructura FIFO (First In, First Out) de manera que al recuperar un elemento obtenemos primero el que se introdujo en primera instancia.(como en la cola del banco el primero en la cola es el primero que sale)\n"
   ]
  },
  {
   "cell_type": "markdown",
   "id": "5db36e98",
   "metadata": {},
   "source": [
    "# Pilas\n",
    "\n",
    "##### Es como si apilaramos libros, el ultimo que se pone es el primero en coger, para ello se usa: \n",
    "##### funcion append() para poner \n",
    "##### funcion pop() para quitar"
   ]
  },
  {
   "cell_type": "code",
   "execution_count": 8,
   "id": "69e018f9",
   "metadata": {},
   "outputs": [],
   "source": [
    "pila = [3,4,5]"
   ]
  },
  {
   "cell_type": "markdown",
   "id": "ad6a4d39",
   "metadata": {},
   "source": [
    "### para introducir elemendots al final usamos append"
   ]
  },
  {
   "cell_type": "code",
   "execution_count": 10,
   "id": "96d583bc",
   "metadata": {},
   "outputs": [],
   "source": [
    "pila.append(6)"
   ]
  },
  {
   "cell_type": "code",
   "execution_count": 11,
   "id": "dda9974d",
   "metadata": {},
   "outputs": [],
   "source": [
    "pila.append(7)"
   ]
  },
  {
   "cell_type": "code",
   "execution_count": 12,
   "id": "1d5af613",
   "metadata": {},
   "outputs": [
    {
     "data": {
      "text/plain": [
       "[3, 4, 5, 6, 7]"
      ]
     },
     "execution_count": 12,
     "metadata": {},
     "output_type": "execute_result"
    }
   ],
   "source": [
    "pila"
   ]
  },
  {
   "cell_type": "markdown",
   "id": "baf9d559",
   "metadata": {},
   "source": [
    "## para sacar elementos utilizaremos el metodo .pop()"
   ]
  },
  {
   "cell_type": "code",
   "execution_count": 13,
   "id": "dd6d230f",
   "metadata": {},
   "outputs": [
    {
     "data": {
      "text/plain": [
       "7"
      ]
     },
     "execution_count": 13,
     "metadata": {},
     "output_type": "execute_result"
    }
   ],
   "source": [
    "pila.pop() # en este caso nos da el último elemento mejor dicho lo extrae"
   ]
  },
  {
   "cell_type": "code",
   "execution_count": 14,
   "id": "59dc8529",
   "metadata": {},
   "outputs": [
    {
     "data": {
      "text/plain": [
       "5"
      ]
     },
     "execution_count": 14,
     "metadata": {},
     "output_type": "execute_result"
    }
   ],
   "source": [
    "pila[2] # en este caso nos da el valor posición 2 pero en la pila siempre habría que sacar el último en entrar\n",
    "        # por eso se usa el pop para sacar el último elemento"
   ]
  },
  {
   "cell_type": "code",
   "execution_count": 15,
   "id": "b37d6665",
   "metadata": {},
   "outputs": [],
   "source": [
    "n = pila.pop() # asigno el elemento a una varfiable, pero no daría el siguiente valor a 7 por que 7 ya lo ha sacado\n",
    "                # de la lista, por eso es una pila (quitamos elementos de arriba a¡hacia abajo como libros apilados)"
   ]
  },
  {
   "cell_type": "code",
   "execution_count": 16,
   "id": "94b79999",
   "metadata": {},
   "outputs": [
    {
     "data": {
      "text/plain": [
       "6"
      ]
     },
     "execution_count": 16,
     "metadata": {},
     "output_type": "execute_result"
    }
   ],
   "source": [
    "n"
   ]
  },
  {
   "cell_type": "code",
   "execution_count": 17,
   "id": "0c45b8f2",
   "metadata": {},
   "outputs": [
    {
     "data": {
      "text/plain": [
       "[3, 4, 5]"
      ]
     },
     "execution_count": 17,
     "metadata": {},
     "output_type": "execute_result"
    }
   ],
   "source": [
    "pila"
   ]
  },
  {
   "cell_type": "markdown",
   "id": "8aaac73b",
   "metadata": {},
   "source": [
    "# Colas\n",
    "##### Es como una cola de la compra el primero que esta en la cola es el primero que sale, por ejemplo si ponemos un oreden en una lista empieza por el primero.\n",
    "##### Para este caso necesitamos importarde la  biblioteca collections la funcion deque\n",
    "###### Podemos añadir elementos mediente la función append.\n",
    "###### Para sacar elementos del final en vez dice usar pop() usaremos popleft() que lo que quiere decir es sacar un elemento de la izquierda\n",
    "###### o sea popleft()  de esta forma extrae el primer elemento ( cola).\n",
    "###### con pop() se extrae el último elemento (pila).\n",
    "\n",
    "\n"
   ]
  },
  {
   "cell_type": "code",
   "execution_count": 1,
   "id": "a708224d",
   "metadata": {},
   "outputs": [],
   "source": [
    "from collections import deque"
   ]
  },
  {
   "cell_type": "code",
   "execution_count": 2,
   "id": "b0c0b5e6",
   "metadata": {},
   "outputs": [],
   "source": [
    "cola = deque() # la editamos vacia"
   ]
  },
  {
   "cell_type": "code",
   "execution_count": 4,
   "id": "9d5b554f",
   "metadata": {},
   "outputs": [
    {
     "data": {
      "text/plain": [
       "deque(['hector', 'juan', 'miguel'])"
      ]
     },
     "execution_count": 4,
     "metadata": {},
     "output_type": "execute_result"
    }
   ],
   "source": [
    "cola = deque(['hector','juan','miguel']) # después la definimos\n",
    "cola"
   ]
  },
  {
   "cell_type": "code",
   "execution_count": 5,
   "id": "14bef42b",
   "metadata": {},
   "outputs": [],
   "source": [
    "cola.append('maria')"
   ]
  },
  {
   "cell_type": "code",
   "execution_count": 6,
   "id": "38014e06",
   "metadata": {},
   "outputs": [],
   "source": [
    "cola.append('arnaldo')"
   ]
  },
  {
   "cell_type": "code",
   "execution_count": 7,
   "id": "06ea47ac",
   "metadata": {},
   "outputs": [
    {
     "data": {
      "text/plain": [
       "deque(['hector', 'juan', 'miguel', 'maria', 'arnaldo'])"
      ]
     },
     "execution_count": 7,
     "metadata": {},
     "output_type": "execute_result"
    }
   ],
   "source": [
    "cola"
   ]
  },
  {
   "cell_type": "code",
   "execution_count": 8,
   "id": "ebe13edd",
   "metadata": {},
   "outputs": [
    {
     "data": {
      "text/plain": [
       "'hector'"
      ]
     },
     "execution_count": 8,
     "metadata": {},
     "output_type": "execute_result"
    }
   ],
   "source": [
    "cola.popleft()"
   ]
  },
  {
   "cell_type": "code",
   "execution_count": 9,
   "id": "f5c5e72c",
   "metadata": {},
   "outputs": [
    {
     "data": {
      "text/plain": [
       "deque(['juan', 'miguel', 'maria', 'arnaldo'])"
      ]
     },
     "execution_count": 9,
     "metadata": {},
     "output_type": "execute_result"
    }
   ],
   "source": [
    "cola"
   ]
  },
  {
   "cell_type": "markdown",
   "id": "857eb3fc",
   "metadata": {},
   "source": [
    "como se puede apreciar va eliminando elementos desde el principio, como si fuera eliminando tareas que hacer."
   ]
  },
  {
   "cell_type": "code",
   "execution_count": 23,
   "id": "58406ab9",
   "metadata": {},
   "outputs": [
    {
     "data": {
      "text/plain": [
       "deque(['ir a la compra', 'Tender la ropa', 'Pasear al perro'])"
      ]
     },
     "execution_count": 23,
     "metadata": {},
     "output_type": "execute_result"
    }
   ],
   "source": [
    "cola_acciones = deque(['ir a la compra','Tender la ropa','Pasear al perro'])\n",
    "cola_acciones"
   ]
  },
  {
   "cell_type": "code",
   "execution_count": 25,
   "id": "c42a5492",
   "metadata": {},
   "outputs": [],
   "source": [
    "cola_acciones.append('leer periodico')"
   ]
  },
  {
   "cell_type": "code",
   "execution_count": 26,
   "id": "d9a8b3b2",
   "metadata": {},
   "outputs": [
    {
     "data": {
      "text/plain": [
       "deque(['ir a la compra',\n",
       "       'Tender la ropa',\n",
       "       'Pasear al perro',\n",
       "       'leer periodico'])"
      ]
     },
     "execution_count": 26,
     "metadata": {},
     "output_type": "execute_result"
    }
   ],
   "source": [
    "cola_acciones"
   ]
  },
  {
   "cell_type": "markdown",
   "id": "f4147244",
   "metadata": {},
   "source": [
    "###### puedo guardar la primera accion para luego ponerla al final copm en un bucle\n"
   ]
  },
  {
   "cell_type": "code",
   "execution_count": 13,
   "id": "91cd716f",
   "metadata": {},
   "outputs": [
    {
     "data": {
      "text/plain": [
       "deque(['Tender la ropa', 'Pasear al perro', 'leer periodico'])"
      ]
     },
     "execution_count": 13,
     "metadata": {},
     "output_type": "execute_result"
    }
   ],
   "source": [
    "guardo_accion = cola_acciones.popleft()\n",
    "cola_acciones"
   ]
  },
  {
   "cell_type": "code",
   "execution_count": 16,
   "id": "ab43aa18",
   "metadata": {},
   "outputs": [
    {
     "data": {
      "text/plain": [
       "'ir a la compra'"
      ]
     },
     "execution_count": 16,
     "metadata": {},
     "output_type": "execute_result"
    }
   ],
   "source": [
    "guardo_accion"
   ]
  },
  {
   "cell_type": "code",
   "execution_count": 21,
   "id": "23965335",
   "metadata": {},
   "outputs": [
    {
     "data": {
      "text/plain": [
       "deque(['Tender la ropa',\n",
       "       'Pasear al perro',\n",
       "       'leer periodico',\n",
       "       'ir a la compra'])"
      ]
     },
     "execution_count": 21,
     "metadata": {},
     "output_type": "execute_result"
    }
   ],
   "source": [
    "cola_acciones"
   ]
  },
  {
   "cell_type": "code",
   "execution_count": null,
   "id": "8bfe2149",
   "metadata": {},
   "outputs": [],
   "source": []
  }
 ],
 "metadata": {
  "kernelspec": {
   "display_name": "Python 3 (ipykernel)",
   "language": "python",
   "name": "python3"
  },
  "language_info": {
   "codemirror_mode": {
    "name": "ipython",
    "version": 3
   },
   "file_extension": ".py",
   "mimetype": "text/x-python",
   "name": "python",
   "nbconvert_exporter": "python",
   "pygments_lexer": "ipython3",
   "version": "3.10.9"
  }
 },
 "nbformat": 4,
 "nbformat_minor": 5
}
