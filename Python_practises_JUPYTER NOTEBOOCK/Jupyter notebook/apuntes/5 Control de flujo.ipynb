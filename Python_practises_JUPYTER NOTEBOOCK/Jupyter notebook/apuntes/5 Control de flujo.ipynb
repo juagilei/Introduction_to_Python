{
 "cells": [
  {
   "cell_type": "markdown",
   "id": "739283d7",
   "metadata": {},
   "source": [
    "# Sentencias de control de flujo\n",
    "\n",
    "Se dividen en dos: condicionales e iterativas.\n",
    "\n",
    "Ya vimos su funcionamiento básico en el módulo de pseudocódigo. Vamos a ver como se pueden usar estas estructuras \n",
    "de control de flujo en Python."
   ]
  },
  {
   "cell_type": "markdown",
   "id": "03f15e83",
   "metadata": {},
   "source": [
    "# Condicionales\n",
    "\n",
    "## Sentencia If (Si)\n",
    "\n",
    "Permite dividir el flujo de un programa en diferentes caminos. Equivalente al `Si`/`Entonces` de PSeInt. El `if` se ejecuta siempre que la expresión que comprueba devuelva `True`."
   ]
  },
  {
   "cell_type": "code",
   "execution_count": 3,
   "id": "d5d18fb9",
   "metadata": {},
   "outputs": [
    {
     "name": "stdout",
     "output_type": "stream",
     "text": [
      "Introduce un número: 42\n",
      "x es 42!\n"
     ]
    }
   ],
   "source": [
    "x = int(input('Introduce un número: '))\n",
    "if x == 42:\n",
    "    print(\"x es 42!\")"
   ]
  },
  {
   "cell_type": "markdown",
   "id": "8452f92c",
   "metadata": {},
   "source": [
    "#### Podemos encadenar diferentes If"
   ]
  },
  {
   "cell_type": "code",
   "execution_count": 2,
   "id": "d12d11eb",
   "metadata": {},
   "outputs": [
    {
     "name": "stdout",
     "output_type": "stream",
     "text": [
      "a vale 5\n"
     ]
    }
   ],
   "source": [
    "a = 5\n",
    "if a == 2:\n",
    "    print(\"a vale 2\")\n",
    "if a == 5:\n",
    "    print(\"a vale 5\")"
   ]
  },
  {
   "cell_type": "markdown",
   "id": "a629a19c",
   "metadata": {},
   "source": [
    "#### O también anidar If dentro de If"
   ]
  },
  {
   "cell_type": "code",
   "execution_count": 3,
   "id": "1462c406",
   "metadata": {},
   "outputs": [
    {
     "name": "stdout",
     "output_type": "stream",
     "text": [
      "a vale 5\n",
      "y b vale 10\n"
     ]
    }
   ],
   "source": [
    "a = 5\n",
    "b = 10\n",
    "if a == 5:\n",
    "    print(\"a vale\",a)\n",
    "    if b == 10:\n",
    "        print(\"y b vale\",b)"
   ]
  },
  {
   "cell_type": "markdown",
   "id": "62f8e88f",
   "metadata": {},
   "source": [
    "#### Como condición podemos evaluar múltiples expresiones, siempre que éstas devuelvan True o False"
   ]
  },
  {
   "cell_type": "code",
   "execution_count": 4,
   "id": "2c450b8b",
   "metadata": {},
   "outputs": [
    {
     "name": "stdout",
     "output_type": "stream",
     "text": [
      "a vale 5 y b vale 10\n"
     ]
    }
   ],
   "source": [
    "if a==5 and b == 10:\n",
    "    print(\"a vale 5 y b vale 10\")"
   ]
  },
  {
   "cell_type": "markdown",
   "id": "790a7f25",
   "metadata": {},
   "source": [
    "## Sentencia Else (Sino)\n",
    "\n",
    "Se encadena a un `if` para comprobar el caso contrario (en el que no se cumple la condición). De nuevo es equivalente al `SiNo` de PSeInt."
   ]
  },
  {
   "cell_type": "code",
   "execution_count": 2,
   "id": "86ce5441",
   "metadata": {},
   "outputs": [
    {
     "name": "stdout",
     "output_type": "stream",
     "text": [
      "Introduce un número: 11\n",
      "11 es un número impar\n"
     ]
    }
   ],
   "source": [
    "n = int(input('Introduce un número: '))\n",
    "if n % 2 == 0:\n",
    "    print(n,\"es un número par\")\n",
    "else:\n",
    "    print(n,\"es un número impar\")"
   ]
  },
  {
   "cell_type": "markdown",
   "id": "317fe9d1",
   "metadata": {},
   "source": [
    "## Sentencia Elif (Sino Si)\n",
    "\n",
    "Se encadena a un `if` u otro `elif` para comprobar múltiples condiciones, siempre que las anteriores no se ejecuten. En PSeInt no existe un comando equivalente. Recordemos un ejemplo que vimos entonces y como ya avanzamos que, en un lenguaje real como Python, podemos escribir lo mismo de manera más elegante.\n",
    "\n",
    "### Ejemplo PSeInt\n",
    "\n",
    "```\n",
    "Algoritmo EjercicioDiaSemana\n",
    "\tEscribir 'Proporcione el dia de la semana: '\n",
    "\tLeer dia_semana\n",
    "\tSi dia_semana == 1\n",
    "\t\tImprimir 'Lunes'\n",
    "\tSiNo\n",
    "\t\tSi dia_semana == 2\n",
    "\t\t\tImprimir 'Martes'\n",
    "\t\tSiNo\n",
    "\t\t\tSi dia_semana == 3\n",
    "\t\t\t\tImprimir 'Miercoles'\n",
    "\t\t\tSiNo\n",
    "\t\t\t\tSi dia_semana == 4\n",
    "\t\t\t\t\tImprimir 'Jueves'\n",
    "\t\t\t\tSiNo\n",
    "\t\t\t\t\tSi dia_semana == 5\n",
    "\t\t\t\t\t\tImprimir 'Viernes'\n",
    "\t\t\t\t\tSiNo\n",
    "\t\t\t\t\t\tSi dia_semana == 6\n",
    "\t\t\t\t\t\t\tImprimir 'Sabado'\n",
    "\t\t\t\t\t\tSiNo\n",
    "\t\t\t\t\t\t\tSi dia_semana == 7\n",
    "\t\t\t\t\t\t\t\tImprimir 'Domingo'\n",
    "\t\t\t\t\t\t\tSiNo\n",
    "\t\t\t\t\t\t\t\tImprimir 'Valor de dia erroneo: ', dia_semana\n",
    "\t\t\t\t\t\t\tFinSi\n",
    "\t\t\t\t\t\tFinSi\n",
    "\t\t\t\t\tFinSi\n",
    "\t\t\t\tFinSi\n",
    "\t\t\tFinSi\n",
    "\t\tFinSi\n",
    "\tFinSi\n",
    "FinAlgoritmo\n",
    "\n",
    "```"
   ]
  },
  {
   "cell_type": "code",
   "execution_count": 4,
   "id": "89dca72b",
   "metadata": {},
   "outputs": [
    {
     "name": "stdout",
     "output_type": "stream",
     "text": [
      "Proporcione el dia de la semana: 4\n",
      "Jueves\n"
     ]
    }
   ],
   "source": [
    "# EjercicioDiaSemana\n",
    "\n",
    "dia_semana = int(input('Proporcione el dia de la semana: '))\n",
    "\n",
    "if dia_semana == 1:\n",
    "    print('Lunes')\n",
    "elif dia_semana == 2:\n",
    "    print('Martes')\n",
    "elif dia_semana == 3:\n",
    "    print('Miercoles')\n",
    "elif dia_semana == 4:\n",
    "    print('Jueves')\n",
    "elif dia_semana == 5:\n",
    "    print('Viernes')\n",
    "elif dia_semana == 6:\n",
    "    print('Sabado')\n",
    "elif dia_semana == 7:\n",
    "    print('Domingo')\n",
    "else:\n",
    "    print('Valor de dia erroneo:', dia_semana)\n"
   ]
  },
  {
   "cell_type": "code",
   "execution_count": 8,
   "id": "1f2db6a4",
   "metadata": {},
   "outputs": [
    {
     "name": "stdout",
     "output_type": "stream",
     "text": [
      "Introduce una nota: 10\n",
      "Sobresaliente\n"
     ]
    }
   ],
   "source": [
    "nota = float(input(\"Introduce una nota: \"))\n",
    "if nota >= 9:\n",
    "    print(\"Sobresaliente\")\n",
    "elif nota >= 7:\n",
    "    print(\"Notable\")\n",
    "elif nota >= 6:\n",
    "    print(\"Bien\")\n",
    "elif nota >= 5:\n",
    "    print(\"Suficiente\")\n",
    "else:\n",
    "    print(\"Insuficiente\")"
   ]
  },
  {
   "cell_type": "markdown",
   "id": "b26b051d",
   "metadata": {},
   "source": [
    "#### Es posible simular el funcionamiento de elif con if utilizando expresiones condicionales"
   ]
  },
  {
   "cell_type": "code",
   "execution_count": 9,
   "id": "a3d33ac2",
   "metadata": {},
   "outputs": [
    {
     "name": "stdout",
     "output_type": "stream",
     "text": [
      "Introduce una nota: 8\n",
      "Notable\n"
     ]
    }
   ],
   "source": [
    "nota = float(input(\"Introduce una nota: \"))\n",
    "if nota >= 9:\n",
    "    print(\"Sobresaliente\")\n",
    "if nota >= 7 and nota < 9:\n",
    "    print(\"Notable\")\n",
    "if nota >= 6 and nota < 7:\n",
    "    print(\"Bien\")\n",
    "if nota >= 5 and nota < 6:\n",
    "    print(\"Suficiente\")\n",
    "if nota < 5:\n",
    "    print(\"Insuficiente\")"
   ]
  },
  {
   "cell_type": "markdown",
   "id": "8185664e",
   "metadata": {},
   "source": [
    "# Iteraciones\n",
    "\n",
    "Iterar significa realizar una acción varias veces. Cada vez que se repite se denomina iteración. También se llaman bucles o ciclos.\n",
    "\n",
    "## Sentencia While (Mientras)\n",
    "\n",
    "Se basa en repetir un bloque a partir de evaluar una condición lógica, siempre que ésta sea `True`.\n",
    "\n",
    "Queda en las manos del programador decidir el momento en que la condición cambie a `False` para hacer que el `while` finalice.\n",
    "\n",
    "Es equivalente a la instrucción `Mientras` de PSeInt."
   ]
  },
  {
   "cell_type": "code",
   "execution_count": 7,
   "id": "ea1a7ea4",
   "metadata": {},
   "outputs": [
    {
     "name": "stdout",
     "output_type": "stream",
     "text": [
      "¿Cuantas veces quieres que te lo agradezca? 3\n",
      "Gracias\n",
      "Gracias\n",
      "Gracias\n"
     ]
    }
   ],
   "source": [
    "repeticiones = int(input('¿Cuantas veces quieres que te lo agradezca? '))\n",
    "\n",
    "while repeticiones > 0:\n",
    "    print('Gracias')\n",
    "    repeticiones -= 1"
   ]
  },
  {
   "cell_type": "markdown",
   "id": "69dbd21b",
   "metadata": {},
   "source": [
    "## Instrucción Break\n",
    "\n",
    "Sirve para \"romper\" la ejecución del `while` en cualquier momento. Aunque resulta una instrucción util es recomandable utilizarle únicamente cuando el código mejore sustancialmente ya que generalmente dificulta la comprensión del código resultante."
   ]
  },
  {
   "cell_type": "code",
   "execution_count": 8,
   "id": "396ea1b0",
   "metadata": {},
   "outputs": [
    {
     "name": "stdout",
     "output_type": "stream",
     "text": [
      "c vale 1\n",
      "c vale 2\n",
      "c vale 3\n",
      "Rompemos el bucle cuando c vale 4\n"
     ]
    }
   ],
   "source": [
    "c = 0\n",
    "while c <= 5:\n",
    "    c+=1\n",
    "    if (c==4):\n",
    "        print(\"Rompemos el bucle cuando c vale\",c)\n",
    "        break\n",
    "    print(\"c vale\",c)"
   ]
  },
  {
   "cell_type": "markdown",
   "id": "ff785077",
   "metadata": {},
   "source": [
    "## Instrucción Continue\n",
    "\n",
    "Sirve para \"saltarse\" la iteración actual sin romper el bucle. Al igual que `break` se aconseja utilizarla lo menos posible."
   ]
  },
  {
   "cell_type": "code",
   "execution_count": 10,
   "id": "a136dc5c",
   "metadata": {},
   "outputs": [
    {
     "name": "stdout",
     "output_type": "stream",
     "text": [
      "c vale 1\n",
      "c vale 2\n",
      "Continuamos con la siguiente iteración 3\n",
      "Continuamos con la siguiente iteración 4\n",
      "c vale 5\n",
      "c vale 6\n"
     ]
    }
   ],
   "source": [
    "c = 0\n",
    "while c <= 5:\n",
    "    c+=1\n",
    "    if c==3 or c==4:\n",
    "        print(\"Continuamos con la siguiente iteración\",c)\n",
    "        continue\n",
    "    print(\"c vale\",c)"
   ]
  },
  {
   "cell_type": "markdown",
   "id": "f365a697",
   "metadata": {},
   "source": [
    "## Instrucción for\n",
    "\n",
    "La instrucción `for` en Python es ligeramente diferente a lo habitual en otros lenguajes. En PSeInt vimos la instrucción `Para` que sigue la estructura habitual encontrada en la mayoría de lenguajes. En el caso de Python la instrucción `for` _sólo_ permite iterar sobre una lista o similar. Aunque esto en principio parece una limitación la combinación con otras instrucciones de Python convierten a este método en una alternativa mucho fácil de utilizar.\n",
    "\n",
    "Para este ejemplo vamos a ver como podriamos recorrer una lista usando el `while`."
   ]
  },
  {
   "cell_type": "code",
   "execution_count": 1,
   "id": "4076091d",
   "metadata": {
    "scrolled": true
   },
   "outputs": [
    {
     "name": "stdout",
     "output_type": "stream",
     "text": [
      "1\n",
      "2\n",
      "3\n",
      "42\n",
      "5\n",
      "6\n",
      "7\n",
      "8\n",
      "9\n",
      "10\n"
     ]
    }
   ],
   "source": [
    "numeros = [1,2,3,42,5,6,7,8,9,10]\n",
    "indice = 0\n",
    "while indice < len(numeros):\n",
    "    print(numeros[indice])\n",
    "    indice+=1"
   ]
  },
  {
   "cell_type": "markdown",
   "id": "4e968bfe",
   "metadata": {},
   "source": [
    "# Sentencia For (Para) con listas"
   ]
  },
  {
   "cell_type": "code",
   "execution_count": 4,
   "id": "55b9dd64",
   "metadata": {
    "scrolled": true
   },
   "outputs": [
    {
     "name": "stdout",
     "output_type": "stream",
     "text": [
      "10\n",
      "20\n",
      "30\n",
      "40\n",
      "50\n",
      "60\n",
      "70\n",
      "80\n",
      "90\n",
      "100\n"
     ]
    }
   ],
   "source": [
    "for numero in numeros:  # Para [variable] en [lista]\n",
    "    print(numero)"
   ]
  },
  {
   "cell_type": "markdown",
   "id": "613ece2f",
   "metadata": {},
   "source": [
    "Hay veces que podemos necesitar también el índice sobre el que estamos iterando. Por ejemplo si queremos modificar la lista. Para ello podemos usar la función `enumerate()` de la siguiente manera."
   ]
  },
  {
   "cell_type": "code",
   "execution_count": 7,
   "id": "22345dcc",
   "metadata": {},
   "outputs": [
    {
     "data": {
      "text/plain": [
       "[10000, 20000, 30000, 40000, 50000, 60000, 70000, 80000, 90000, 100000]"
      ]
     },
     "execution_count": 7,
     "metadata": {},
     "output_type": "execute_result"
    }
   ],
   "source": [
    "for indice,numero in enumerate(numeros):\n",
    "    numeros[indice] *= 10\n",
    "numeros"
   ]
  },
  {
   "cell_type": "markdown",
   "id": "1a7c7221",
   "metadata": {},
   "source": [
    "`for` también funciona con cadenas de texto."
   ]
  },
  {
   "cell_type": "code",
   "execution_count": 9,
   "id": "12c2e126",
   "metadata": {},
   "outputs": [
    {
     "name": "stdout",
     "output_type": "stream",
     "text": [
      "B\n",
      "l\n",
      "o\n",
      "c\n",
      "k\n",
      "M\n",
      "a\n",
      "k\n",
      "e\n",
      "r\n"
     ]
    }
   ],
   "source": [
    "cadena = \"BlockMaker\"\n",
    "for caracter in cadena:\n",
    "    print(caracter)"
   ]
  },
  {
   "cell_type": "markdown",
   "id": "4d91cd5d",
   "metadata": {},
   "source": [
    "## La función range()\n",
    "Sirve para generar una lista de números que podemos recorrer fácilmente, pero no ocupa memoria porque se interpreta sobre la marcha:"
   ]
  },
  {
   "cell_type": "code",
   "execution_count": 15,
   "id": "79908662",
   "metadata": {},
   "outputs": [
    {
     "name": "stdout",
     "output_type": "stream",
     "text": [
      "0\n",
      "1\n",
      "2\n",
      "3\n",
      "4\n",
      "5\n",
      "6\n",
      "7\n",
      "8\n",
      "9\n"
     ]
    }
   ],
   "source": [
    "for i in range(10):\n",
    "    print(i)"
   ]
  },
  {
   "cell_type": "code",
   "execution_count": 16,
   "id": "b072b44d",
   "metadata": {},
   "outputs": [
    {
     "data": {
      "text/plain": [
       "range(0, 10)"
      ]
     },
     "execution_count": 16,
     "metadata": {},
     "output_type": "execute_result"
    }
   ],
   "source": [
    "range(10)"
   ]
  },
  {
   "cell_type": "markdown",
   "id": "874de201",
   "metadata": {},
   "source": [
    "Como vemos la función no devuelve la lista. Realmente es más un _iterador_ pero es un concepto que aún no hemos introducido. Si queremos conseguir la lista literal podemos transformar el `range` a una lista:"
   ]
  },
  {
   "cell_type": "code",
   "execution_count": 10,
   "id": "a24e81cc",
   "metadata": {},
   "outputs": [
    {
     "data": {
      "text/plain": [
       "[0, 1, 2, 3, 4, 5, 6, 7, 8, 9]"
      ]
     },
     "execution_count": 10,
     "metadata": {},
     "output_type": "execute_result"
    }
   ],
   "source": [
    "list(range(10))"
   ]
  },
  {
   "cell_type": "markdown",
   "id": "245b45f0",
   "metadata": {},
   "source": [
    "#### Ejemplo"
   ]
  },
  {
   "cell_type": "code",
   "execution_count": 11,
   "id": "bd0e2d54",
   "metadata": {},
   "outputs": [
    {
     "name": "stdout",
     "output_type": "stream",
     "text": [
      "¿Cuantas veces quieres que te lo agradezca? 3\n",
      "Gracias\n",
      "Gracias\n",
      "Gracias\n"
     ]
    }
   ],
   "source": [
    "repeticiones = int(input('¿Cuantas veces quieres que te lo agradezca? '))\n",
    "\n",
    "for repeticion in range(repeticiones):\n",
    "    print('Gracias')"
   ]
  }
 ],
 "metadata": {
  "kernelspec": {
   "display_name": "Python 3 (ipykernel)",
   "language": "python",
   "name": "python3"
  },
  "language_info": {
   "codemirror_mode": {
    "name": "ipython",
    "version": 3
   },
   "file_extension": ".py",
   "mimetype": "text/x-python",
   "name": "python",
   "nbconvert_exporter": "python",
   "pygments_lexer": "ipython3",
   "version": "3.10.4"
  }
 },
 "nbformat": 4,
 "nbformat_minor": 5
}
