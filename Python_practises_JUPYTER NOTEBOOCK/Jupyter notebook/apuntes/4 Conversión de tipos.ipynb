{
 "cells": [
  {
   "cell_type": "markdown",
   "id": "27bbf723",
   "metadata": {},
   "source": [
    "## Lectura de entrada (teclado)\n",
    "\n",
    "Recordemos: PSeInt dispone de Leer para tomar un dato de teclado (entrada) y almacenarlo en una variable.\n",
    "\n",
    "El equivalente en Python es `input()`.\n",
    "\n",
    "Siempre se lee una cadena de carácteres."
   ]
  },
  {
   "cell_type": "code",
   "execution_count": 1,
   "id": "4cfe971a",
   "metadata": {},
   "outputs": [
    {
     "name": "stdout",
     "output_type": "stream",
     "text": [
      "Introduce un valor: 500\n"
     ]
    }
   ],
   "source": [
    "valor = input(\"Introduce un valor: \")"
   ]
  },
  {
   "cell_type": "markdown",
   "id": "3d36ecc6",
   "metadata": {},
   "source": [
    "# Conversión de tipos\n",
    "\n",
    "Python utiliza tipado dinámico, lo que significa que no es necesario declarar los tipos.\n",
    "\n",
    "Pero eso no significa que los tipos cambien dinámicamente, excepto en algunos casos.\n",
    "\n",
    "Vamos a ver como convertir valores entre los diferentes tipos."
   ]
  },
  {
   "cell_type": "markdown",
   "id": "34a56ae3",
   "metadata": {},
   "source": [
    "## `int()`: conversión de cadena a entero"
   ]
  },
  {
   "cell_type": "code",
   "execution_count": 2,
   "id": "50ea88f9",
   "metadata": {},
   "outputs": [],
   "source": [
    "# La función int() de entero, devuelve un número entero a partir de una cadena\n",
    "valor = int(valor)  "
   ]
  },
  {
   "cell_type": "code",
   "execution_count": 3,
   "id": "290f0882",
   "metadata": {},
   "outputs": [
    {
     "data": {
      "text/plain": [
       "500"
      ]
     },
     "execution_count": 3,
     "metadata": {},
     "output_type": "execute_result"
    }
   ],
   "source": [
    "valor"
   ]
  },
  {
   "cell_type": "code",
   "execution_count": 4,
   "id": "31c3fc52",
   "metadata": {},
   "outputs": [
    {
     "data": {
      "text/plain": [
       "1500"
      ]
     },
     "execution_count": 4,
     "metadata": {},
     "output_type": "execute_result"
    }
   ],
   "source": [
    "valor + 1000  # Ahora ya es operable"
   ]
  },
  {
   "cell_type": "code",
   "execution_count": 5,
   "id": "32e7c201",
   "metadata": {},
   "outputs": [
    {
     "data": {
      "text/plain": [
       "18"
      ]
     },
     "execution_count": 5,
     "metadata": {},
     "output_type": "execute_result"
    }
   ],
   "source": [
    "# podemos utilizar diferentes bases pasando un segundo parámetro a int()\n",
    "int(\"10010\", 2)"
   ]
  },
  {
   "cell_type": "code",
   "execution_count": 6,
   "id": "00aede31",
   "metadata": {},
   "outputs": [
    {
     "data": {
      "text/plain": [
       "3735928559"
      ]
     },
     "execution_count": 6,
     "metadata": {},
     "output_type": "execute_result"
    }
   ],
   "source": [
    "int(\"deadbeef\", 16)"
   ]
  },
  {
   "cell_type": "markdown",
   "id": "96f6d8c4",
   "metadata": {},
   "source": [
    "## `float()`: de cadena a coma flotante"
   ]
  },
  {
   "cell_type": "code",
   "execution_count": 7,
   "id": "3582c951",
   "metadata": {},
   "outputs": [],
   "source": [
    "# La función float() de flotante, devuelve un número flotante a partir de una cadena\n",
    "valor = float(\"10.5\") "
   ]
  },
  {
   "cell_type": "code",
   "execution_count": 8,
   "id": "397e4802",
   "metadata": {},
   "outputs": [
    {
     "data": {
      "text/plain": [
       "20.5"
      ]
     },
     "execution_count": 8,
     "metadata": {},
     "output_type": "execute_result"
    }
   ],
   "source": [
    "10 + valor"
   ]
  },
  {
   "cell_type": "code",
   "execution_count": 9,
   "id": "4628f69f",
   "metadata": {},
   "outputs": [
    {
     "data": {
      "text/plain": [
       "10.5"
      ]
     },
     "execution_count": 9,
     "metadata": {},
     "output_type": "execute_result"
    }
   ],
   "source": [
    "valor"
   ]
  },
  {
   "cell_type": "markdown",
   "id": "d28187fe",
   "metadata": {},
   "source": [
    "## `hex()`: de entero a string hexadecimal"
   ]
  },
  {
   "cell_type": "code",
   "execution_count": 10,
   "id": "3f1c0989",
   "metadata": {},
   "outputs": [
    {
     "data": {
      "text/plain": [
       "'0x2a'"
      ]
     },
     "execution_count": 10,
     "metadata": {},
     "output_type": "execute_result"
    }
   ],
   "source": [
    "# La función hex() pasa de un entero a su representación en hexadecimal\n",
    "hex(42)"
   ]
  },
  {
   "cell_type": "code",
   "execution_count": 11,
   "id": "0630248c",
   "metadata": {},
   "outputs": [
    {
     "data": {
      "text/plain": [
       "'0xdeadbeef'"
      ]
     },
     "execution_count": 11,
     "metadata": {},
     "output_type": "execute_result"
    }
   ],
   "source": [
    "hex(3735928559)"
   ]
  },
  {
   "cell_type": "markdown",
   "id": "56e8300b",
   "metadata": {},
   "source": [
    "## `str()`: de casi cualquier cosa a string\n",
    "\n",
    "La función str() convierte cualquier tipo de dato en string."
   ]
  },
  {
   "cell_type": "code",
   "execution_count": 12,
   "id": "03452b4f",
   "metadata": {},
   "outputs": [
    {
     "data": {
      "text/plain": [
       "'42'"
      ]
     },
     "execution_count": 12,
     "metadata": {},
     "output_type": "execute_result"
    }
   ],
   "source": [
    "str(42) "
   ]
  },
  {
   "cell_type": "code",
   "execution_count": 13,
   "id": "2be85782",
   "metadata": {},
   "outputs": [
    {
     "data": {
      "text/plain": [
       "'10.5'"
      ]
     },
     "execution_count": 13,
     "metadata": {},
     "output_type": "execute_result"
    }
   ],
   "source": [
    "str(10.5)"
   ]
  }
 ],
 "metadata": {
  "kernelspec": {
   "display_name": "Python 3 (ipykernel)",
   "language": "python",
   "name": "python3"
  },
  "language_info": {
   "codemirror_mode": {
    "name": "ipython",
    "version": 3
   },
   "file_extension": ".py",
   "mimetype": "text/x-python",
   "name": "python",
   "nbconvert_exporter": "python",
   "pygments_lexer": "ipython3",
   "version": "3.10.4"
  }
 },
 "nbformat": 4,
 "nbformat_minor": 5
}
